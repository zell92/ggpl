{
 "cells": [
  {
   "cell_type": "markdown",
   "metadata": {},
   "source": [
    "<h1>Design of Doors and Windows</h1>\n",
    "<h5>Nicola Sardella - 440648 - workshop 7</h5>"
   ]
  },
  {
   "cell_type": "code",
   "execution_count": 1,
   "metadata": {
    "collapsed": false
   },
   "outputs": [
    {
     "name": "stdout",
     "output_type": "stream",
     "text": [
      "Evaluating fenvs.py..\n",
      "...fenvs.py imported in 0.0124721382592 seconds\n"
     ]
    }
   ],
   "source": [
    "from pyplasm import *\n",
    "from fpformat import *\n"
   ]
  },
  {
   "cell_type": "code",
   "execution_count": 2,
   "metadata": {
    "collapsed": false
   },
   "outputs": [],
   "source": [
    "def color(r,g,b):\n",
    "    \"\"\"This function return a rgb Color\"\"\"\n",
    "    return [float(fix(r/255.,6)),float(fix(g/255.,6)),float(fix(b/255.,6)),1.000000]"
   ]
  },
  {
   "cell_type": "markdown",
   "metadata": {},
   "source": [
    "<h2>Geometric method:</h2>\n",
    "Viene passato alla funzione uno schema enumerativo, nel quale il modello dell'oggetto è generato enumerando le celle piene in una partizione dello spazio (rette parallele nelle tre direzioni coordinate).\n",
    "Richiede 4 strutture dati: 4 array reali per definire le misure delle strisce e un array 3d di booleani (0 in corrispondenza delle celle vuote  e 1 in corrispondenza delle celle piene.\n",
    "\n",
    "Vengono scritte due funzioni (\"door\" e \"window\"), che sono funzioni del secondo livello.<br>\n",
    "4+3 parametri passati:<br>\n",
    "4: X,Y,Z e l'array booleano<br><font color=\"red\">(Y è un array di un solo valore che identifica lo spessore della porta/finestra)</font><br>\n",
    "3: dx,dy,dz è il dimensionamento dell'oggetto stesso"
   ]
  },
  {
   "cell_type": "markdown",
   "metadata": {},
   "source": [
    "<h2>Description:</h2>\n",
    "Vengono descrtitte due funzioni per generare porte e finestre dello stesso stile<br>\n",
    "In particolare:\n",
    "<h2>Window:</h2>\n",
    "![alt text](finestra.jpg)"
   ]
  },
  {
   "cell_type": "code",
   "execution_count": 3,
   "metadata": {
    "collapsed": false
   },
   "outputs": [],
   "source": [
    "def window(X,Y,Z,occurency):\n",
    "    def window2(dx,dy,dz):\n",
    "        \n",
    "        #colori\n",
    "        bianco=color(255,255,255)\n",
    "        glass=color(201, 219, 220)\n",
    "        #spessore vetro\n",
    "        spessoreVetro=0.02\n",
    "        #variabili di traslazione\n",
    "        ty=0\n",
    "        tz=0\n",
    "        tz2=0\n",
    "        #Variabili di supporto per la costruzione della finestra\n",
    "        legno1=PROD([QUOTE([0]),QUOTE([0])])\n",
    "        vetro1=PROD([QUOTE([0]),QUOTE([0])])\n",
    "\n",
    "        \n",
    "        #costruzione della cornice della finestra\n",
    "        for y in range(0,len(Y)):\n",
    "            for z in range(0,len(Z)):\n",
    "                legnox=[]\n",
    "                for x in range (0,len(X)):\n",
    "                    if occupancy[z][y][x]==0:\n",
    "                        legnox.append(X[x]*-1)\n",
    "                    else:\n",
    "                        legnox.append(X[x])\n",
    "                legno2= PROD([QUOTE(legnox),QUOTE([Y[y]])])\n",
    "                legno2= PROD([legno2,QUOTE([Z[z]])])\n",
    "                legno1=STRUCT([legno1,T([2,3])([ty,tz]),legno2]) \n",
    "                tz=Z[z]\n",
    "                tz2=tz2+tz\n",
    "            tz2=tz2-tz-Z[z-1]\n",
    "            legno1=STRUCT([legno1,T([2,3])([ty,tz2-tz]),legno2]) \n",
    "            tz=0\n",
    "            tz2=0\n",
    "            ty=Y[y]\n",
    "         \n",
    "        #azzeramento delle variabili di traslazione\n",
    "        tz=0\n",
    "        tz2=0\n",
    "        ty=0\n",
    "        \n",
    "        #costruzione vetro\n",
    "        for y in range(0,len(Y)):\n",
    "            ty=ty+(Y[y]/2)-(spessoreVetro/2)\n",
    "            for z in range(0,len(Z)):\n",
    "                vetrox=[]\n",
    "                for x in range (0,len(X)):\n",
    "                    if occupancy[z][y][x]==0:\n",
    "                        if occupancy[z][y][x+1]==1 and occupancy[z][y][x-1]==1:\n",
    "                            vetrox.append(X[x])\n",
    "                        else:\n",
    "                            vetrox.append(X[x]*-1)\n",
    "                            \n",
    "                    else:\n",
    "                        vetrox.append(X[x]*-1)\n",
    "                positivo = False\n",
    "                for v in vetrox:\n",
    "                    if v>=0:\n",
    "                        positivo=True\n",
    "                if positivo:\n",
    "                    vetro2= PROD([QUOTE(vetrox),QUOTE([0.02])])\n",
    "                    vetro2= PROD([vetro2,QUOTE([Z[z]])])\n",
    "                    vetro1=STRUCT([vetro1,T([2,3])([ty,tz]),vetro2]) \n",
    "                tz=Z[z]\n",
    "                tz2=tz2+tz\n",
    "            tz2=tz2-tz-Z[z-1]\n",
    "            if positivo:\n",
    "                vetro1=STRUCT([vetro1,T([2,3])([ty,tz2-tz]),vetro2]) \n",
    "            tz=0\n",
    "            tz2=0\n",
    "            \n",
    "        #colorazione\n",
    "        legno1 = STRUCT([COLOR(bianco),legno1])\n",
    "        vetro1 = STRUCT([COLOR(glass),vetro1])\n",
    "        #assemblaggio parti\n",
    "        finestra= STRUCT([legno1,vetro1])\n",
    "        posizioneManiglia=[X[0]+(X[1]/2)-0.015,Y[0]-0.03,(SIZE(3)(legno1))/2]\n",
    "        maniglia= STRUCT([COLOR(color(0,0,0)),T([1,2,3])(posizioneManiglia),(CUBOID([0.03,0.03,0.2]))])\n",
    "        finestra= STRUCT([finestra,maniglia])\n",
    "        #adattamento alle dimenzioni desiderate\n",
    "        dim=[dx/SIZE(1)(finestra),dy/SIZE(2)(finestra),dz/SIZE(3)(finestra)]\n",
    "        finestra= STRUCT([S([1,2,3])(dim),finestra])\n",
    "        \n",
    "        return finestra\n",
    "    return window2\n",
    "        "
   ]
  },
  {
   "cell_type": "code",
   "execution_count": 4,
   "metadata": {
    "collapsed": false
   },
   "outputs": [
    {
     "data": {
      "text/plain": [
       "<pyplasm.xgepy.Hpc; proxy of <Swig Object of type 'std::shared_ptr< Hpc > *' at 0x000000000ABB3F30> >"
      ]
     },
     "execution_count": 4,
     "metadata": {},
     "output_type": "execute_result"
    }
   ],
   "source": [
    "Z=[0.1,0.05,1.5,0.05,0.1]\n",
    "X=[0.1,0.05,0.7,0.05,0.7,0.05,0.1]\n",
    "Y=[0.1,0.1]\n",
    "occupancy=[[[1,1,1,1,1,1,1],[1,1,1,1,1,1,1]],\n",
    "           [[1,0,0,1,1,1,1],[1,1,1,1,0,0,1]],\n",
    "           [[1,0,0,1,0,1,1],[1,1,0,1,0,0,1]],\n",
    "           [[1,0,0,1,1,1,1],[1,1,1,1,0,0,1]],\n",
    "           [[1,1,1,1,1,1,1],[1,1,1,1,1,1,1]]] #ZYX\n",
    "VIEW(window(X,Y,Z,occupancy)(1.5,0.2,1.7))"
   ]
  },
  {
   "cell_type": "markdown",
   "metadata": {},
   "source": [
    "<h2>Risultato:</h2>\n",
    "![alt text](finestraRisultato.jpg)"
   ]
  },
  {
   "cell_type": "markdown",
   "metadata": {},
   "source": [
    "<h2>Door:</h2>\n",
    "![alt text](porta.jpg)"
   ]
  },
  {
   "cell_type": "code",
   "execution_count": 49,
   "metadata": {
    "collapsed": false
   },
   "outputs": [],
   "source": [
    "def door(X,Y,Z,occurency):\n",
    "    def door2(dx,dy,dz):\n",
    "        #spessore vetro\n",
    "        spessoreVetro=0.02\n",
    "        #colori\n",
    "        bianco=color(255,255,255)\n",
    "        glass=color(201, 219, 220)\n",
    "        gold=color(255,215,0)\n",
    "        #variabili di supporto per la costruzione della porta\n",
    "        legno1=PROD([QUOTE([0]),QUOTE([0])])\n",
    "        vetro1=PROD([QUOTE([0]),QUOTE([0])])\n",
    "        #array per la costruzione della struttura e del vetro\n",
    "        s=[COLOR(bianco)]\n",
    "        v=[COLOR(glass),T(2)(Y[-1])]\n",
    "        \n",
    "        #costruzione struttura\n",
    "        for y in range(0,len(Y)):\n",
    "            for z in range(0,len(Z)):\n",
    "                legnox=[]\n",
    "                for x in range (0,len(X)):\n",
    "                    if occupancy[z][y][x]==0:\n",
    "                        legnox.append(X[x]*-1)\n",
    "                    else:\n",
    "                        legnox.append(X[x])\n",
    "               \n",
    "                legno2= PROD([QUOTE(legnox),QUOTE([Y[y]])])\n",
    "                legno2= PROD([legno2,QUOTE([Z[z]])])\n",
    "                s.append(legno2)\n",
    "                s.append(T([3])([Z[z]]))\n",
    "            s.append(T([2,3])([Y[y],-SIZE(3)(STRUCT(s))]))\n",
    "        #costruzione vetro    \n",
    "        for z in range(0,len(Z)):\n",
    "            vetrox=[]\n",
    "            for x in range (0,len(X)):\n",
    "                if occupancy[z][len(Y)-1][x]==0:\n",
    "                    vetrox.append(X[x])\n",
    "                else:\n",
    "                    vetrox.append(X[x]*-1)\n",
    "            positivo = False\n",
    "            for i in vetrox:\n",
    "                if i>=0:\n",
    "                    positivo=True\n",
    "            if positivo:\n",
    "                vetro2= PROD([QUOTE(vetrox),QUOTE([spessoreVetro])])\n",
    "                vetro2= PROD([vetro2,QUOTE([Z[z]])])\n",
    "                v.append(vetro2)\n",
    "            v.append(T([3])([Z[z]]))\n",
    "        #costruzione porta \n",
    "        struttura=STRUCT(s)\n",
    "        vetro=STRUCT(v)\n",
    "        porta=STRUCT([struttura,vetro])\n",
    "        #aggiunta maniglie\n",
    "        centro=X[len(X)/2]/2\n",
    "        posizioneManiglia=[SIZE(1)(porta)/2-(0.1+0.01)-centro,Y[0]-0.03,(SIZE(3)(porta))/2]\n",
    "        maniglia=STRUCT([CUBOID([0.1,0.03,0.03]),T(1)((centro*2)+0.12),CUBOID([0.1,0.03,0.03])])\n",
    "        maniglia= STRUCT([COLOR(gold),T([1,2,3])(posizioneManiglia),maniglia])\n",
    "        porta= STRUCT([porta,maniglia])\n",
    "        \n",
    "        #adattamento alle dimenzioni desiderate\n",
    "        dim=[dx/SIZE(1)(porta),dy/SIZE(2)(porta),dz/SIZE(3)(porta)]\n",
    "        porta= STRUCT([S([1,2,3])(dim),porta])\n",
    "        \n",
    "        return porta\n",
    "    return door2"
   ]
  },
  {
   "cell_type": "code",
   "execution_count": 50,
   "metadata": {
    "collapsed": false,
    "scrolled": false
   },
   "outputs": [
    {
     "data": {
      "text/plain": [
       "<pyplasm.xgepy.Hpc; proxy of <Swig Object of type 'std::shared_ptr< Hpc > *' at 0x000000000AD32BA0> >"
      ]
     },
     "execution_count": 50,
     "metadata": {},
     "output_type": "execute_result"
    }
   ],
   "source": [
    "Z=[0.05,.1,.15,.03,1.65,.03,.15,.1,.05]\n",
    "X=[.05,.1,.15,.03,0.5,.05,.15,.1,0.1,.1,.15,.03,0.5,.05,.15,.1,0.05]\n",
    "Y=[0.02,0.07]\n",
    "occupancy=[[[1,1,1,1,1,1,1,1,1,1,1,1,1,1,1,1,1],[1,1,1,1,1,1,1,1,1,1,1,1,1,1,1,1,1]],\n",
    "           [[1,0,0,0,0,0,0,0,1,0,0,0,0,0,0,0,1],[1,1,1,1,1,1,1,1,1,1,1,1,1,1,1,1,1]],\n",
    "           [[1,0,0,0,0,0,0,0,1,0,0,0,0,0,0,0,1],[1,1,0,1,0,1,0,1,1,1,0,1,0,1,0,1,1]],\n",
    "           [[1,0,0,0,0,0,0,0,1,0,0,0,0,0,0,0,1],[1,1,1,1,1,1,1,1,1,1,1,1,1,1,1,1,1]],\n",
    "           [[1,0,0,0,0,0,0,0,1,0,0,0,0,0,0,0,1],[1,1,0,1,0,1,0,1,1,1,0,1,0,1,0,1,1]],\n",
    "           [[1,0,0,0,0,0,0,0,1,0,0,0,0,0,0,0,1],[1,1,1,1,1,1,1,1,1,1,1,1,1,1,1,1,1]],\n",
    "           [[1,0,0,0,0,0,0,0,1,0,0,0,0,0,0,0,1],[1,1,0,1,0,1,0,1,1,1,0,1,0,1,0,1,1]],\n",
    "           [[1,0,0,0,0,0,0,0,1,0,0,0,0,0,0,0,1],[1,1,1,1,1,1,1,1,1,1,1,1,1,1,1,1,1]],\n",
    "           [[1,1,1,1,1,1,1,1,1,1,1,1,1,1,1,1,1],[1,1,1,1,1,1,1,1,1,1,1,1,1,1,1,1,1]]        \n",
    "          ]\n",
    "           \n",
    "      #ZYX\n",
    "VIEW(door(X,Y,Z,occupancy)(2.2,0.1,2.3))"
   ]
  },
  {
   "cell_type": "markdown",
   "metadata": {
    "collapsed": true
   },
   "source": [
    "<h2>Risultato:</h2>\n",
    "![alt text](portaRisultato.jpg)"
   ]
  },
  {
   "cell_type": "code",
   "execution_count": null,
   "metadata": {
    "collapsed": true
   },
   "outputs": [],
   "source": []
  }
 ],
 "metadata": {
  "kernelspec": {
   "display_name": "Python 2",
   "language": "python",
   "name": "python2"
  },
  "language_info": {
   "codemirror_mode": {
    "name": "ipython",
    "version": 2
   },
   "file_extension": ".py",
   "mimetype": "text/x-python",
   "name": "python",
   "nbconvert_exporter": "python",
   "pygments_lexer": "ipython2",
   "version": "2.7.12"
  }
 },
 "nbformat": 4,
 "nbformat_minor": 1
}
