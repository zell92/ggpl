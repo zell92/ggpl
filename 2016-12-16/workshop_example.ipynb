{
 "cells": [
  {
   "cell_type": "markdown",
   "metadata": {},
   "source": [
    "<h1>Title</h1>\n",
    "<h5>Nicola Sardella - 440648 - workshop No.</h5>"
   ]
  },
  {
   "cell_type": "code",
   "execution_count": 19,
   "metadata": {
    "collapsed": false
   },
   "outputs": [],
   "source": [
    "from pyplasm import *\n",
    "from fpformat import *\n",
    "from larlib import *\n",
    "import csv\n",
    "from math import *"
   ]
  },
  {
   "cell_type": "markdown",
   "metadata": {},
   "source": [
    "<h2>Description:</h2>\n",
    "progetto geometrico dei tetti\n",
    "funziona sempre quale sia la proiezione planemetrica dei muri.\n",
    "Dato un poligono qualunque e farci sopra il tetto,\n",
    "in due possibilità:\n",
    "il tetto pendente non copre l'intera area, ma tutte le falde hanno la stessa inclinazione (tutti i piani hanno la stessa tangente con il piano orizzontale)\n",
    "se le falde hanno tutte la stessa inclinazione, le bisettrici interne degli angoli, rette di intersezione di due falde contigue, appartengono a due a due al piano della falda relativa.\n",
    "Se interseco tutte le falde con un piano orizzontale, si ottiene una sort di terrazzo)\n",
    "\n",
    "\n",
    "Creare funzioni di supporto elementari:\n",
    "calcolo del fascio di piani passanti per una retta, che si mette come funzione di un parametro (angolo che il fascio forma con il piano orizzontale).\n",
    "\n",
    "intersezione di tre piani è un punto: si possono cercare i punti di intersezione di tre piani consecutivi, che ci danno le linee di colmo di tetto \n",
    "\n",
    "funzione 2: visualizzazione di un piano assegnato per ogni spigolo \n",
    "\n",
    "calcolo intersezione di tre piani\n",
    "\n",
    "calcolare equazione piano qualunque, che soddisfi proprietà (un certo angolo) è mapparsi lo spigolo: ragionare intorno all'origine.\n",
    "\n",
    "per calcolare l'angolo di una certa tangente:\n",
    "atan2(Ty,Tx) calcola l'arco\n",
    "\n",
    "trasformazione affine ad un'equazione:\n",
    "ax+by+cz+d=0--> rappresentazione piano--> a,b,c,d e (x,y,z)^T\n",
    "a,b,c,d*T^-1  dove T è (xyz)\n",
    "\n",
    "vertici e spigoli in lar\n",
    "\n",
    "covettore di y=mx è\n",
    "(m -1 0 0)\n"
   ]
  },
  {
   "cell_type": "markdown",
   "metadata": {},
   "source": [
    "![bordi](border.svg)"
   ]
  },
  {
   "cell_type": "markdown",
   "metadata": {},
   "source": [
    "<h2>Variables:</h2>\n"
   ]
  },
  {
   "cell_type": "markdown",
   "metadata": {},
   "source": [
    "<h2>Geometric method:</h2>\n"
   ]
  },
  {
   "cell_type": "code",
   "execution_count": 60,
   "metadata": {
    "collapsed": false
   },
   "outputs": [],
   "source": [
    "def dimension(HTC):\n",
    "    point=POLYLINE([[0,0],[0,0]])\n",
    "    dimensionElem=SIZE([1,2])(HTC)\n",
    "    dim=STRUCT([HTC,point])\n",
    "    dimension=SIZE([1,2])(dim)\n",
    "    negativeDimension=[]\n",
    "    realDimension=[dimension[0]-dimensionElem[0],dimension[1]-dimensionEl\n",
    "    for d in realDimension:\n",
    "        negativeDimension.append(d*-1)\n",
    "    return [dimension,negativeDimension]"
   ]
  },
  {
   "cell_type": "code",
   "execution_count": 61,
   "metadata": {
    "collapsed": true
   },
   "outputs": [],
   "source": [
    "def point2line(x1,x2,y1,y2):\n",
    "    x3=x2-x1\n",
    "    y3=y2-y1\n",
    "    print(x3)\n",
    "    print(y3)\n",
    "    alpha= atan2(x3,y3)\n",
    "    print(PI)\n",
    "    return alpha"
   ]
  },
  {
   "cell_type": "code",
   "execution_count": 62,
   "metadata": {
    "collapsed": false
   },
   "outputs": [],
   "source": [
    "def planGenerator():\n",
    "    p1=[.37142857, 7.9593362]\n",
    "    p2=[.95944815,8.977816]\n",
    "    angle=point2line(p2[0],p1[0],p2[1],p1[1])\n",
    "    line= POLYLINE([p1,p2])\n",
    "    line=PROD([line,Q(2)])\n",
    "    line=STRUCT([line])\n",
    "    dimLine=dimension(line)\n",
    "    line= STRUCT([T([1,2])(dimLine[1]),line])\n",
    "    line= STRUCT([R([1,2])(angle),line])\n",
    "    line= STRUCT([R([1,3])(PI/4),line])\n",
    "    line= STRUCT([R([1,2])(-angle),line])\n",
    "    line= STRUCT([T([1,2])(dimLine[0]),line])\n",
    "    p1=[.95944815,8.977816]\n",
    "    p2=[2.5171038,8.0785031]\n",
    "    angle=point2line(p2[0],p1[0],p2[1],p1[1])\n",
    "    line2= POLYLINE([p1,p2])\n",
    "    \n",
    "    line2=PROD([line2,Q(2)])\n",
    "    line2=STRUCT([line2])\n",
    "    dimLine2=dimension(line2)\n",
    "    line2= STRUCT([T([1,2])(dimLine2[1]),line2])\n",
    "    #line2= STRUCT([R([1,2])(angle),line2])\n",
    "    #line2= STRUCT([R([1,3])(PI/4),line2])\n",
    "    #line2= STRUCT([R([1,2])(-angle),line2])\n",
    "    #line2= STRUCT([T([1,2])(dimLine2[0]),line2])\n",
    "\n",
    "    \n",
    "    \"\"\"\n",
    "    '95.944815', '897.7816', '251.71038', '807.85031']\n",
    "    with open(\"border.lines\", \"rb\") as file:\n",
    "        reader = csv.reader(file, delimiter=\",\")\n",
    "        listLine=[]\n",
    "        for row in reader:\n",
    "            p1=[float(row[3]), float(row[2])]\n",
    "            p2=[float(row[1]), float(row[0])]\n",
    "            angle=point2line(p2[0],p1[0],p2[1],p1[1])\n",
    "            line= POLYLINE([p1,p2])\n",
    "            line=PROD([line,Q(10)])\n",
    "            line= STRUCT([R([3,2])(angle),line])\n",
    "            line= STRUCT([R([1,3])(PI/4),line])\n",
    "            line= STRUCT([R([1,2])(-angle),line])\n",
    "            listLine.append(line)\n",
    "            \"\"\"\n",
    "\n",
    "                \n",
    "\n",
    "    VIEW(STRUCT([line,line2]))\n",
    "    "
   ]
  },
  {
   "cell_type": "code",
   "execution_count": 63,
   "metadata": {
    "collapsed": false
   },
   "outputs": [],
   "source": [
    "def buildingRoof(nameLines_path):\n",
    "    #creo il bordo\n",
    "    \n",
    "    with open(nameLines_path, \"rb\") as file:\n",
    "        reader = csv.reader(file, delimiter=\",\")\n",
    "        listWalls = []\n",
    "        for row in reader:\n",
    "            print (row)\n",
    "            print(\"-----------------\")\n",
    "            listWalls.append(POLYLINE([[float(row[3]), float(row[2])],[float(row[1]), float(row[0])]]))\n",
    "            \n",
    "    \n",
    "    walls = STRUCT([S([1,2,3])([1,1,1]),STRUCT(listWalls)])\n",
    "    xfactor = 25/SIZE([1])(walls)[0]\n",
    "    yfactor = 15.1/SIZE([2])(walls)[0]\n",
    "    roof=[]\n",
    "    for line in listWalls:\n",
    "            roof.append(planGenerator(line,PI/2,xfactor,yfactor))\n",
    "    VIEW(STRUCT([walls,STRUCT(roof)]))"
   ]
  },
  {
   "cell_type": "code",
   "execution_count": 64,
   "metadata": {
    "collapsed": false
   },
   "outputs": [
    {
     "name": "stdout",
     "output_type": "stream",
     "text": [
      "-0.58801958\n",
      "-1.0184798\n",
      "3.14159265359\n",
      "-1.55765565\n",
      "0.8993129\n",
      "3.14159265359\n"
     ]
    }
   ],
   "source": [
    "planGenerator()"
   ]
  },
  {
   "cell_type": "markdown",
   "metadata": {},
   "source": [
    "<h2>Results</h2>\n"
   ]
  },
  {
   "cell_type": "code",
   "execution_count": null,
   "metadata": {
    "collapsed": true
   },
   "outputs": [],
   "source": []
  },
  {
   "cell_type": "code",
   "execution_count": null,
   "metadata": {
    "collapsed": true
   },
   "outputs": [],
   "source": []
  }
 ],
 "metadata": {
  "kernelspec": {
   "display_name": "Python 2",
   "language": "python",
   "name": "python2"
  },
  "language_info": {
   "codemirror_mode": {
    "name": "ipython",
    "version": 2
   },
   "file_extension": ".py",
   "mimetype": "text/x-python",
   "name": "python",
   "nbconvert_exporter": "python",
   "pygments_lexer": "ipython2",
   "version": "2.7.12"
  }
 },
 "nbformat": 4,
 "nbformat_minor": 1
}
