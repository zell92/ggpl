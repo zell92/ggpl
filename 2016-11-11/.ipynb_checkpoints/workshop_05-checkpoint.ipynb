{
 "cells": [
  {
   "cell_type": "markdown",
   "metadata": {},
   "source": [
    "<h1>My school furniture</h1>\n",
    "<h5>Nicola Sardella - 440648 - workshop 5</h5>"
   ]
  },
  {
   "cell_type": "code",
   "execution_count": 299,
   "metadata": {
    "collapsed": false
   },
   "outputs": [],
   "source": [
    "from pyplasm import *\n",
    "from fpformat import *"
   ]
  },
  {
   "cell_type": "code",
   "execution_count": 300,
   "metadata": {
    "collapsed": true
   },
   "outputs": [],
   "source": [
    "def color(r,g,b):\n",
    "    \"\"\"This function return a rgb Color\"\"\"\n",
    "    return [float(fix(r/255.,6)),float(fix(g/255.,6)),float(fix(b/255.,6)),1.000000]"
   ]
  },
  {
   "cell_type": "markdown",
   "metadata": {},
   "source": [
    "<h2>School Desk</h2>"
   ]
  },
  {
   "cell_type": "markdown",
   "metadata": {},
   "source": [
    "![alt text](banco.jpg)"
   ]
  },
  {
   "cell_type": "code",
   "execution_count": 301,
   "metadata": {
    "collapsed": false
   },
   "outputs": [],
   "source": [
    "def schoolDesk(dx,dy,dz):\n",
    "    \"this function return a school desk in dim: dx,dy,dz\"\n",
    "    green=color(0,204,153)\n",
    "    wood=color(205,133,63)\n",
    "    metal=color(178,178,178)\n",
    "    \n",
    "    dzColor=dz-0.0001\n",
    "    dxS=dx-0.005\n",
    "    dzS=dz-0.02\n",
    "    dxDownDesk=dxS-0.02\n",
    "    dzDownDesk=dzS-0.12\n",
    "    \n",
    "    colorDeskVertex=[[0,0,dz],[dx,0,dz],[dx,dy,dz],[0,dy,dz],[0,0,dzColor],[dx,0,dzColor],[dx,dy,dzColor],[0,dy,dzColor]]\n",
    "    colorDeskCells=[[1,2,3,4,5,6,7,8]]\n",
    "    colorDesk=MKPOL([colorDeskVertex,colorDeskCells,None])\n",
    "    colorDesk=STRUCT([COLOR(green),colorDesk])\n",
    "    \n",
    "    upDeskVertex=[[0,0,dz],[dx,0,dz],[dx,dy,dz],[0,dy,dz],[0,0,dzS],[dx,0,dzS],[dx,dy,dzS],[0,dy,dzS]]\n",
    "    upDeskCells=[[1,2,3,4,5,6,7,8]]\n",
    "    upDesk=MKPOL([upDeskVertex,upDeskCells,None])\n",
    "    upDesk=STRUCT([COLOR(wood),upDesk])\n",
    "    \n",
    "    downDeskVertex=[[0.025,0.,dzDownDesk+0.03],[dxDownDesk,0,dzDownDesk+0.03],\n",
    "                    [dxDownDesk,dy,dzDownDesk+0.03],[0.025,dy,dzDownDesk+0.03],\n",
    "                    [0.025,0,dzDownDesk],[dxDownDesk,0,dzDownDesk],\n",
    "                    [dxDownDesk,dy,dzDownDesk],[0.025,dy,dzDownDesk]]\n",
    "    downDeskCells=[[1,4,5,8],[1,2,6,5],[2,3,7,6],[5,6,7,8]]\n",
    "    downDesk=MKPOL([downDeskVertex,downDeskCells,None])\n",
    "    downDesk=STRUCT([COLOR(metal),downDesk])\n",
    "    \n",
    "    sDeskVertex=[[0.0025,0.,dzS],[dxS,0,dzS],\n",
    "                    [dxS,0.02,dzS],[0.0025,0.02,dzS],\n",
    "                 [0.0025,0.,0],[0.0225,0.,0],\n",
    "                 [0.0225,0.02,0],[0.0025,0.02,0],\n",
    "                 [0.0225,0,dzS-0.02],[0.0225,0.02,dzS-0.02],\n",
    "                 \n",
    "                 [dxS-0.02,0.,0],[dxS,0.,0],\n",
    "                 [dxS,0.02,0],[dxS-0.02,0.02,0],\n",
    "                 [dxS-0.02,0,dzS-0.02],[dxS-0.02,0.02,dzS-0.02],\n",
    "                [0.0025,0,dzS-0.02],[0.0025,0.02,dzS-0.02],[dxS,0,dzS-0.02],[dxS,0.02,dzS-0.02]]\n",
    "                                 \n",
    "\n",
    "    sDeskCells=[[5,6,7,8,9,10,17,18],[1,2,3,4,19,20,17,18],[11,12,13,14,19,16,20,15]]\n",
    "    sDesk=MKPOL([sDeskVertex,sDeskCells,None])\n",
    "    sDesk=STRUCT([COLOR(metal),sDesk])\n",
    "    sDesk=STRUCT([sDesk,T(2)(dy-0.02),sDesk])\n",
    "    \n",
    "    bar = STRUCT([T([1,3])([0.0225,0.25]),COLOR(metal),CUBOID([dxS-0.04,0.02,0.02])])\n",
    "    \n",
    "    desk=STRUCT([bar,sDesk,upDesk,colorDesk,downDesk])\n",
    "    \n",
    "    \n",
    "  \n",
    "    return desk\n",
    "    \n"
   ]
  },
  {
   "cell_type": "markdown",
   "metadata": {},
   "source": [
    "![alt text](bancoResult.jpg)"
   ]
  },
  {
   "cell_type": "markdown",
   "metadata": {},
   "source": [
    "<h2>School chair</h2>\n",
    "![alt text](sedia.jpg)"
   ]
  },
  {
   "cell_type": "code",
   "execution_count": 302,
   "metadata": {
    "collapsed": true
   },
   "outputs": [],
   "source": [
    "def schoolChair(dx,dy,dz):\n",
    "    \"this function return a school chair in dim: dx,dy,dz\"\n",
    "    black=color(0,0,0)\n",
    "    wood=color(205,133,63)\n",
    "    \n",
    "    dzPart=(dz/2.0)-0.015\n",
    "    p=STRUCT([T(3)(dzPart),CUBOID([0.015,dy,0.015])])\n",
    "    p2=CUBOID([0.015,0.015,dzPart])\n",
    "    p2=STRUCT([p2,T([2])([dy-0.015]),p2,T([3])([(dzPart+0.015)]),p2])\n",
    "    p=STRUCT([p,p2])\n",
    "    p=STRUCT([p,T(1)(dx-0.015),p])\n",
    "    p2=CUBOID([dx,0.015,0.015])\n",
    "    p2=STRUCT([T([2,3])([dy-0.015,dz-0.015]),p2])\n",
    "    p=STRUCT([p,p2])\n",
    "    struct=STRUCT([COLOR(black),p])\n",
    "    \n",
    "    base= CUBOID([dx,dy-0.015,0.01])\n",
    "    \n",
    "    schienale= CUBOID([dx,0.01,dzPart/2.])\n",
    "    \n",
    "    parts= STRUCT([T(3)(dzPart+0.015),base,T([2,3])([dy-0.025,(dzPart/2)+0.015]),schienale])\n",
    "    parts=STRUCT([COLOR(wood),parts])\n",
    "    \n",
    "    chair=STRUCT([struct,parts])\n",
    "    \n",
    "    return chair"
   ]
  },
  {
   "cell_type": "markdown",
   "metadata": {},
   "source": [
    "![alt text](sediaResult.jpg)"
   ]
  },
  {
   "cell_type": "markdown",
   "metadata": {},
   "source": [
    "<h2>Teaching Post:</h2>\n",
    "![alt text](cattedra.jpg)"
   ]
  },
  {
   "cell_type": "code",
   "execution_count": 303,
   "metadata": {
    "collapsed": false
   },
   "outputs": [],
   "source": [
    "def teachingPost(dx,dy,dz):\n",
    "    \"this function return a teachingPost in dim: dx,dy,dz\"\n",
    "    \n",
    "    green=color(0,204,153)\n",
    "    wood=color(205,133,63)\n",
    "    darkWood=color(150,75,0)\n",
    "    metal=color(178,178,178)\n",
    "    \n",
    "    deltaStruct=0.0025\n",
    "    spessore=0.02\n",
    "    \n",
    "    dy=dy-spessore\n",
    "    \n",
    "    dzColor=dz-0.0001\n",
    "    dxS=dx-(deltaStruct*2)\n",
    "    dzS=dz-spessore\n",
    "\n",
    "    \n",
    "    zBar=0.25\n",
    "    zPanel=0.27\n",
    "    \n",
    "    zDrawer=dz/3.\n",
    "    xDrawer=dx/3.\n",
    "    deltaDrawer=0.002\n",
    "    \n",
    "    colorDeskVertex=[[0,0,dz],[dx,0,dz],[dx,dy,dz],[0,dy,dz],[0,0,dzColor],[dx,0,dzColor],[dx,dy,dzColor],[0,dy,dzColor]]\n",
    "    colorDeskCells=[[1,2,3,4,5,6,7,8]]\n",
    "    colorDesk=MKPOL([colorDeskVertex,colorDeskCells,None])\n",
    "    colorDesk=STRUCT([COLOR(green),colorDesk])\n",
    "    \n",
    "    upDeskVertex=[[0,0,dz],[dx,0,dz],[dx,dy,dz],[0,dy,dz],[0,0,dzS],[dx,0,dzS],[dx,dy,dzS],[0,dy,dzS]]\n",
    "    upDeskCells=[[1,2,3,4,5,6,7,8]]\n",
    "    upDesk=MKPOL([upDeskVertex,upDeskCells,None])\n",
    "    upDesk=STRUCT([COLOR(wood),upDesk])\n",
    "    \n",
    "    \n",
    "    sDeskVertex=[[deltaStruct,0.,dzS],[dxS,0,dzS],\n",
    "                 [dxS,spessore,dzS],[deltaStruct,spessore,dzS],\n",
    "                 [deltaStruct,0.,0],[spessore,0.,0],\n",
    "                 [spessore+deltaStruct,spessore,0],[deltaStruct,spessore,0],\n",
    "                 [spessore+deltaStruct,0,dzS-spessore],[spessore+deltaStruct,spessore,dzS-spessore],\n",
    "                 \n",
    "                 [dxS-spessore,0.,0],[dxS,0.,0],\n",
    "                 [dxS,spessore,0],[dxS-spessore,spessore,0],\n",
    "                 [dxS-spessore,0,dzS-spessore],[dxS-spessore,spessore,dzS-spessore],\n",
    "                [deltaStruct,0,dzS-spessore],[deltaStruct,spessore,dzS-spessore],\n",
    "                 [dxS,0,dzS-spessore],[dxS,spessore,dzS-spessore]]\n",
    "                                 \n",
    "\n",
    "    sDeskCells=[[5,6,7,8,9,10,17,18],[1,2,3,4,19,20,17,18],[11,12,13,14,19,16,20,15]]\n",
    "    sDesk=MKPOL([sDeskVertex,sDeskCells,None])\n",
    "    sDesk=STRUCT([COLOR(metal),sDesk])\n",
    "    sDesk=STRUCT([sDesk,T(2)(dy-spessore),sDesk])\n",
    "    \n",
    "    bar = STRUCT([T([1,2,3])([deltaStruct,spessore,zBar]),COLOR(metal),CUBOID([spessore,dy-(spessore*2),spessore])])\n",
    "    bar=STRUCT([bar,T(1)(dx-(spessore)-(deltaStruct*3)),bar])\n",
    "\n",
    "    bar = STRUCT([bar,T([1,2,3])([deltaStruct+spessore,dy-spessore-zBar,zBar]),COLOR(metal),\n",
    "                  CUBOID([dxS-(spessore*2)-deltaStruct,spessore,spessore])])\n",
    "    \n",
    "    \n",
    "    \n",
    "    \n",
    "    panel = STRUCT([CUBOID([spessore,dy,dz/2.])])\n",
    "    panel=STRUCT([T([1,3])([deltaStruct+spessore,zPanel]),panel])\n",
    "    panel=STRUCT([panel,T([1])([dxS-deltaStruct-(spessore*3)]),panel])\n",
    "    \n",
    "    panel=STRUCT([panel,T([2,3])([dy,zPanel]),CUBOID([dx,spessore,dz/2.])])\n",
    "    panel=STRUCT([COLOR(darkWood),panel])\n",
    "    \n",
    "  \n",
    "    \n",
    "   \n",
    "    drawer= STRUCT([CUBOID([spessore,dy-0.03,zDrawer])])\n",
    "    drawer= STRUCT([COLOR(darkWood),drawer,T([1])([spessore]),CUBOID([xDrawer,dy-0.03,spessore]),\n",
    "                    T([3])([zDrawer-spessore]),CUBOID([xDrawer,dy-0.03,spessore])])\n",
    "    cassetto=CUBOID([xDrawer-(deltaDrawer*2),dy-0.03,(zDrawer/2.)-(spessore)-(deltaDrawer*2)])\n",
    "    \n",
    "    xMan=SIZE(1)(cassetto)/4.\n",
    "    manigliaVertici=[[0,0,0],[xMan,0,0],[xMan,0.03,0],[xMan*(3/4.),0.03,0],[xMan*(3/4.),0.01,0],\n",
    "                     [xMan*(1/4.),0.01,0],[xMan*(1/4.),0.03,0],[0,0.03,0],\n",
    "                    [0,0,0.02],[xMan,0,0.02],[xMan,0.03,0.02],[xMan*(3/4.),0.03,0.02],\n",
    "                     [xMan*(3/4.),0.01,0.02],\n",
    "                     [xMan*(1/4.),0.01,0.02],[xMan*(1/4.),0.03,0.02],[0,0.03,0.02],\n",
    "                    [xMan*(1/4.),0,0],[xMan*(3/4.),0,0],[xMan*(1/4.),0,0.02],[xMan*(3/4.),0,0.02]]\n",
    "    manigliaCelle=[[1,17,9,19,7,8,16,15],[17,18,19,20,5,6,14,13],[2,3,4,18,10,11,12,20]]\n",
    "    maniglia=MKPOL([manigliaVertici,manigliaCelle,None])\n",
    "    maniglia=STRUCT([COLOR(metal),maniglia])\n",
    "    \n",
    "    cassetto=STRUCT([COLOR(darkWood),cassetto])\n",
    "    xPosmaniglia=(SIZE(1)(cassetto)/2)-(SIZE(1)(maniglia)/2)\n",
    "    zPosmaniglia=(SIZE(3)(cassetto)/2)-(SIZE(3)(maniglia)/2)\n",
    "    cassetto=STRUCT([cassetto,T([1,2,3])([xPosmaniglia,-0.03,zPosmaniglia]),maniglia])\n",
    "    \n",
    "    \n",
    "    \n",
    "    \n",
    "    drawer=STRUCT([T([1,2,3])([dxS-(spessore*2)-deltaStruct-SIZE(1)(drawer),0.03,zPanel]),drawer,T([1,3])([spessore+deltaDrawer,spessore+deltaDrawer]),\n",
    "                   cassetto,T([3])([SIZE(3)(cassetto)+ deltaDrawer]),\n",
    "                  cassetto])\n",
    "    desk=STRUCT([bar,sDesk,upDesk,colorDesk,panel,drawer])\n",
    "   \n",
    "    return desk\n",
    "    "
   ]
  },
  {
   "cell_type": "markdown",
   "metadata": {},
   "source": [
    "![alt text](cattedraResult.jpg)"
   ]
  },
  {
   "cell_type": "markdown",
   "metadata": {},
   "source": [
    "<h2>Blackboard:</h2>\n",
    "![alt text](lavagna.jpg)"
   ]
  },
  {
   "cell_type": "code",
   "execution_count": 304,
   "metadata": {
    "collapsed": true
   },
   "outputs": [],
   "source": [
    "def blackboard(dx,dy,dz):\n",
    "    \"this function return a blackboard in dim: dx,dy,dz\"\n",
    "    darkWood=color(150,75,0)\n",
    "    spessore=0.03\n",
    "    deltaSpessore=0.005\n",
    "    borderBB=0.1\n",
    "    zBase=0.07\n",
    "    \n",
    "    zLavagna=dz/2.\n",
    "    zStruct=dz*(3/4.)-zBase\n",
    "    xLavagna=dx-(spessore*4)-(borderBB*2)\n",
    "    zCenter=zStruct/8.\n",
    "    \n",
    "    base=STRUCT([CUBOID([spessore,dy,zBase]),T([2,3])([(dy/2.)-(spessore/2.),zBase]),\n",
    "                 CUBOID([spessore,spessore,zStruct]),T([1,3])([spessore,zStruct-spessore]),\n",
    "                 CUBOID([spessore,0.01,0.01])])\n",
    "    base2=STRUCT([R([1,2])(PI),base])\n",
    "    base=STRUCT([base,T([1,2])([dx,dy]),base2])\n",
    "    \n",
    "    center = CUBOID([dx-(spessore*2),spessore,zCenter])\n",
    "    base=STRUCT([COLOR(BLACK),base,T([1,2,3])([spessore,(dy/2.)-(spessore/2.),(zStruct/2.)-(zCenter/2.)]),center])\n",
    "    b1=CUBOID([borderBB,spessore,zLavagna])\n",
    "    b2=CUBOID([xLavagna,spessore,borderBB])\n",
    "    \n",
    "    board= STRUCT([COLOR(darkWood),b1,T(1)(borderBB),b2,T(1)(xLavagna),b1,T([1,3])([-xLavagna,zLavagna-borderBB]),b2])\n",
    "    interno= STRUCT([COLOR(BLACK),CUBOID([xLavagna,spessore-(deltaSpessore*2),zLavagna-(2*borderBB)])])\n",
    "    \n",
    "    board=STRUCT([board,T([1,2,3])([borderBB,deltaSpessore,borderBB]),interno])\n",
    "    blackBoard=STRUCT([base,T([1,2,3])([spessore*2,(dy/2.)-(spessore/2.),zLavagna]),board])\n",
    "    return blackBoard\n"
   ]
  },
  {
   "cell_type": "markdown",
   "metadata": {},
   "source": [
    "![alt text](lavagnaResult.jpg)"
   ]
  },
  {
   "cell_type": "markdown",
   "metadata": {},
   "source": [
    "<h2>Test the functions:</h2>"
   ]
  },
  {
   "cell_type": "code",
   "execution_count": 305,
   "metadata": {
    "collapsed": true
   },
   "outputs": [],
   "source": [
    "def aula():\n",
    "    \"test my school forniture\"\n",
    "    banco=schoolDesk(1,0.5,0.7)\n",
    "    sedia=schoolChair(0.4,0.4,0.8)\n",
    "    sedie=STRUCT([sedia,T([1])([0.5]),sedia])\n",
    "    banco=STRUCT([banco,T([1,2])([0.05,0.35]),sedie])\n",
    "    \n",
    "    banco=STRUCT([T([2])([2.5]),banco,T(1)(1.5),banco,T(1)(1.5),banco])\n",
    "    banco=STRUCT([banco,T(2)(1.5),banco,T(2)(1.5),banco])\n",
    "    banco=STRUCT([T(1)(0.5),banco])\n",
    "    \n",
    "    cattedra=teachingPost(1.7,0.8,1)\n",
    "    sediaC=schoolChair(0.6,0.6,1.2)\n",
    "    sediaC=STRUCT([R([1,2])(PI),sediaC])\n",
    "    sediaC=STRUCT([T([1,2])(SIZE([1,2])(sediaC)),sediaC])\n",
    "    sediaC=STRUCT([T([1])([0.1]),sediaC])\n",
    "    cattedra=STRUCT([sediaC,T(2)(0.2),cattedra])\n",
    "    lavagna=blackboard(1.5,0.7,2)\n",
    "    cattedra= STRUCT([T(1)(SIZE(1)(cattedra)*1.5),cattedra])\n",
    "    aula= STRUCT([lavagna,cattedra,banco])\n",
    "    \n",
    "    VIEW(aula)\n",
    "    "
   ]
  },
  {
   "cell_type": "markdown",
   "metadata": {
    "collapsed": true
   },
   "source": [
    "![alt text](aula.jpg)"
   ]
  },
  {
   "cell_type": "code",
   "execution_count": 306,
   "metadata": {
    "collapsed": false
   },
   "outputs": [],
   "source": [
    "aula()\n"
   ]
  },
  {
   "cell_type": "code",
   "execution_count": null,
   "metadata": {
    "collapsed": true
   },
   "outputs": [],
   "source": []
  }
 ],
 "metadata": {
  "kernelspec": {
   "display_name": "Python 2",
   "language": "python",
   "name": "python2"
  },
  "language_info": {
   "codemirror_mode": {
    "name": "ipython",
    "version": 2
   },
   "file_extension": ".py",
   "mimetype": "text/x-python",
   "name": "python",
   "nbconvert_exporter": "python",
   "pygments_lexer": "ipython2",
   "version": "2.7.12"
  }
 },
 "nbformat": 4,
 "nbformat_minor": 1
}
