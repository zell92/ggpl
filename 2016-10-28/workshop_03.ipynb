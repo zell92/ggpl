{
 "cells": [
  {
   "cell_type": "markdown",
   "metadata": {},
   "source": [
    "# Stair landings"
   ]
  },
  {
   "cell_type": "markdown",
   "metadata": {},
   "source": [
    "Workshop N.3- Nicola Sardella - 440648"
   ]
  },
  {
   "cell_type": "markdown",
   "metadata": {},
   "source": [
    "<H1>[Struttura di riferimento](http://www.builderbill-diy-help.com/image-files/xst-half2.gif.pagespeed.ic.rX-ZF-GupS.png)</H1>\n",
    "![alt text](scale.png)"
   ]
  },
  {
   "cell_type": "markdown",
   "metadata": {},
   "source": [
    "<H2>geometric method:</H2>\n",
    "La funzione prende in input tre parametri dx, dy, dz (in metri). Questi parametri corrispondono alle dimensioni totali della struttura.\n",
    "La profondità della pedata di un gradino (variabile p) sarà in funzione del parametro dy, mentre l'altezza dell'alzata in funzione del parametro dz.\n",
    "La larghezza dell'alzata e della pedata sono in funzione del parametro dx, in particolare dx/2.\n",
    "La singola rampa avrà altezza complessiva (dx-altezza pianerottolo)/2.\n",
    "Si sfrutta la proporzione tra alzata e pedata: 2a+p=(62-64)cm\n",
    "In fine il pianerottolo sarà proporzionale alla dimensione dy, in particolare sarà 1/4 di dy.\n",
    "    "
   ]
  },
  {
   "cell_type": "code",
   "execution_count": 1,
   "metadata": {
    "collapsed": false
   },
   "outputs": [
    {
     "name": "stdout",
     "output_type": "stream",
     "text": [
      "Evaluating fenvs.py..\n",
      "...fenvs.py imported in 0.0237587856317 seconds\n"
     ]
    },
    {
     "name": "stderr",
     "output_type": "stream",
     "text": [
      "c:\\python27(64)\\lib\\site-packages\\larlib\\larstruct.py:233: FutureWarning: comparison to `None` will result in an elementwise object comparison in the future.\n",
      "  self.body = [item for item in data if item != None]\n"
     ]
    }
   ],
   "source": [
    "from pyplasm import *\n",
    "from larlib import *"
   ]
  },
  {
   "cell_type": "code",
   "execution_count": 189,
   "metadata": {
    "collapsed": false
   },
   "outputs": [],
   "source": [
    "\"\"\"this function returns some HTC values, representative of a Stair landings. \n",
    "Input: \n",
    "dx,dy,dx (the dimensions of whole structure)\"\"\"\n",
    "def ggpl_stair_landings(dx,dy,dz):\n",
    "    a=0.165 #alzata base per gradini\n",
    "    \n",
    "    \n",
    "    frazioneA= dz/a\n",
    "    nGradini = modf(frazioneA)[1]\n",
    "    alzata=dz/nGradini\n",
    "    nGradini=nGradini-1\n",
    "    yPianerottolo = dy/3.0\n",
    "    frazioneP=(dy-yPianerottolo)\n",
    "    pedata=frazioneP/(nGradini/2)\n",
    "    verifica=pedata+2*alzata;\n",
    "    lGradino = dx/2\n",
    "    pianerottolo=CUBOID([dx,yPianerottolo,alzata])\n",
    "    if verifica>=0.62 and verifica<=0.64:\n",
    "        scala=[]\n",
    "        scala2=[]\n",
    "        diagonale=[]\n",
    "        dist=[-(dx/2),dx/2]\n",
    "        dist2=[dx/2]\n",
    "        distDiag=QUOTE(dist)\n",
    "        \n",
    "        g1=0\n",
    "        g2=0\n",
    "        scala.append(T([1])(lGradino))\n",
    "        if nGradini%2==0:\n",
    "            g1=nGradini/2\n",
    "            g2=nGradini/2\n",
    "        else:\n",
    "            g1=((nGradini-1)/2)+1\n",
    "            g2=(nGradini-1)/2\n",
    "        ng1= range (1,int(g1+1))\n",
    "        a=0;\n",
    "        p=pedata;\n",
    "        diagonale.append([a,p])\n",
    "        diagonale.append([alzata,p])\n",
    "        diagonale.append([alzata,2*p])\n",
    "        d=MKPOL([diagonale,[[1,2,3]],None])\n",
    "        d=PROD([distDiag,d])\n",
    "        d=STRUCT([R([2,3])(PI/2),d])\n",
    "        d=STRUCT([R([1,2])(PI),d])\n",
    "        d=STRUCT([T([1])(dx*3/2),d])\n",
    "        for i in range (1,int(g1)):\n",
    "            p=p+pedata\n",
    "            a=a+alzata\n",
    "            scala.append(CUBOID([lGradino,pedata,alzata]))\n",
    "            scala.append(T([1,2,3])([0,pedata,alzata]))\n",
    "            d=STRUCT([d,T([2,3])([pedata,alzata]),d])\n",
    "            \n",
    "        scala.append(CUBOID([lGradino,pedata,alzata]))\n",
    "        scala.append(T([1,2,3])([-lGradino,pedata,alzata]))\n",
    "        scala.append(pianerottolo)\n",
    "        \n",
    "        d2=MKPOL([diagonale,[[1,2,3]],None])\n",
    "        d2=PROD([QUOTE(dist2),d2])\n",
    "        d2=STRUCT([R([2,3])(PI/2),d2])\n",
    "        d2=STRUCT([T([1,2,3])([0,pedata*(g2+2),alzata*(g2+1)]),d2])\n",
    "        for i in range (1,int(g1)):\n",
    "            scala2.append(CUBOID([lGradino,pedata,alzata]))\n",
    "            scala2.append(T([1,2,3])([0,pedata,alzata]))\n",
    "            d2=STRUCT([d2,T([2,3])([-pedata,alzata]),d2])\n",
    "            \n",
    "        scala2.append(CUBOID([lGradino,pedata,alzata]))\n",
    "        d2\n",
    "        s2=STRUCT([R([1,2])(PI),STRUCT(scala2)])\n",
    "        s2=STRUCT([T([1,2,3])([lGradino,pedata*(g2+1),alzata*(g2+2)]),s2])\n",
    "        \n",
    "        s=STRUCT([STRUCT(scala),s2,d,d2])\n",
    "        \n",
    "        \n",
    "        \n",
    "        return s\n",
    "            \n",
    "    else:\n",
    "                        print(\"Errore input sbagliato! 2a+b=\"+ str(verifica) + \" deve essere compreso tra 0.62 e 0.64\")\n",
    "            \n",
    "    "
   ]
  },
  {
   "cell_type": "code",
   "execution_count": null,
   "metadata": {
    "collapsed": false
   },
   "outputs": [],
   "source": [
    "r=ggpl_stair_landings(3.2,3.2,2.8)\n",
    "VIEW(r)\n",
    "print(SIZE([1,2,3])(BOX([1,2,3])(r)))"
   ]
  },
  {
   "cell_type": "markdown",
   "metadata": {
    "collapsed": true
   },
   "source": [
    "<h2>Risultato Ottenuto:</h2>"
   ]
  },
  {
   "cell_type": "markdown",
   "metadata": {
    "collapsed": true
   },
   "source": [
    "![alt text](risultato.png)"
   ]
  }
 ],
 "metadata": {
  "kernelspec": {
   "display_name": "Python 2",
   "language": "python",
   "name": "python2"
  },
  "language_info": {
   "codemirror_mode": {
    "name": "ipython",
    "version": 2
   },
   "file_extension": ".py",
   "mimetype": "text/x-python",
   "name": "python",
   "nbconvert_exporter": "python",
   "pygments_lexer": "ipython2",
   "version": "2.7.12"
  }
 },
 "nbformat": 4,
 "nbformat_minor": 1
}
