{
 "cells": [
  {
   "cell_type": "markdown",
   "metadata": {},
   "source": [
    "<h1>My school furniture</h1>"
   ]
  },
  {
   "cell_type": "code",
   "execution_count": 1,
   "metadata": {
    "collapsed": false
   },
   "outputs": [
    {
     "name": "stdout",
     "output_type": "stream",
     "text": [
      "Evaluating fenvs.py..\n",
      "...fenvs.py imported in 0.0057181761537 seconds\n"
     ]
    }
   ],
   "source": [
    "from pyplasm import *\n",
    "from fpformat import *"
   ]
  },
  {
   "cell_type": "code",
   "execution_count": 2,
   "metadata": {
    "collapsed": true
   },
   "outputs": [],
   "source": [
    "def color(r,g,b):\n",
    "    return [float(fix(r/255.,6)),float(fix(g/255.,6)),float(fix(b/255.,6)),1.000000]"
   ]
  },
  {
   "cell_type": "markdown",
   "metadata": {},
   "source": [
    "![alt text](banco.jpg)"
   ]
  },
  {
   "cell_type": "code",
   "execution_count": 3,
   "metadata": {
    "collapsed": false
   },
   "outputs": [],
   "source": [
    "def schoolDesk(dx,dy,dz):\n",
    "    green=color(0,204,153)\n",
    "    wood=color(205,133,63)\n",
    "    metal=color(178,178,178)\n",
    "    \n",
    "    dzColor=dz-0.0001\n",
    "    dxS=dx-0.005\n",
    "    dzS=dz-0.02\n",
    "    dxDownDesk=dxS-0.02\n",
    "    dzDownDesk=dzS-0.12\n",
    "    \n",
    "    colorDeskVertex=[[0,0,dz],[dx,0,dz],[dx,dy,dz],[0,dy,dz],[0,0,dzColor],[dx,0,dzColor],[dx,dy,dzColor],[0,dy,dzColor]]\n",
    "    colorDeskCells=[[1,2,3,4,5,6,7,8]]\n",
    "    colorDesk=MKPOL([colorDeskVertex,colorDeskCells,None])\n",
    "    colorDesk=STRUCT([COLOR(green),colorDesk])\n",
    "    \n",
    "    upDeskVertex=[[0,0,dz],[dx,0,dz],[dx,dy,dz],[0,dy,dz],[0,0,dzS],[dx,0,dzS],[dx,dy,dzS],[0,dy,dzS]]\n",
    "    upDeskCells=[[1,2,3,4,5,6,7,8]]\n",
    "    upDesk=MKPOL([upDeskVertex,upDeskCells,None])\n",
    "    upDesk=STRUCT([COLOR(wood),upDesk])\n",
    "    \n",
    "    downDeskVertex=[[0.025,0.,dzDownDesk+0.03],[dxDownDesk,0,dzDownDesk+0.03],\n",
    "                    [dxDownDesk,dy,dzDownDesk+0.03],[0.025,dy,dzDownDesk+0.03],\n",
    "                    [0.025,0,dzDownDesk],[dxDownDesk,0,dzDownDesk],\n",
    "                    [dxDownDesk,dy,dzDownDesk],[0.025,dy,dzDownDesk]]\n",
    "    downDeskCells=[[1,4,5,8],[1,2,6,5],[2,3,7,6],[5,6,7,8]]\n",
    "    downDesk=MKPOL([downDeskVertex,downDeskCells,None])\n",
    "    downDesk=STRUCT([COLOR(metal),downDesk])\n",
    "    \n",
    "    sDeskVertex=[[0.0025,0.,dzS],[dxS,0,dzS],\n",
    "                    [dxS,0.02,dzS],[0.0025,0.02,dzS],\n",
    "                 [0.0025,0.,0],[0.0225,0.,0],\n",
    "                 [0.0225,0.02,0],[0.0025,0.02,0],\n",
    "                 [0.0225,0,dzS-0.02],[0.0225,0.02,dzS-0.02],\n",
    "                 \n",
    "                 [dxS-0.02,0.,0],[dxS,0.,0],\n",
    "                 [dxS,0.02,0],[dxS-0.02,0.02,0],\n",
    "                 [dxS-0.02,0,dzS-0.02],[dxS-0.02,0.02,dzS-0.02],\n",
    "                [0.0025,0,dzS-0.02],[0.0025,0.02,dzS-0.02],[dxS,0,dzS-0.02],[dxS,0.02,dzS-0.02]]\n",
    "                                 \n",
    "\n",
    "    sDeskCells=[[5,6,7,8,9,10,17,18],[1,2,3,4,19,20,17,18],[11,12,13,14,19,16,20,15]]\n",
    "    sDesk=MKPOL([sDeskVertex,sDeskCells,None])\n",
    "    sDesk=STRUCT([COLOR(metal),sDesk])\n",
    "    sDesk=STRUCT([sDesk,T(2)(dy-0.02),sDesk])\n",
    "    \n",
    "    bar = STRUCT([T([1,3])([0.0225,0.25]),COLOR(metal),CUBOID([dxS-0.04,0.02,0.02])])\n",
    "    \n",
    "    desk=STRUCT([bar,sDesk,upDesk,colorDesk,downDesk])\n",
    "    \n",
    "    \n",
    "  \n",
    "    return desk\n",
    "    \n"
   ]
  },
  {
   "cell_type": "markdown",
   "metadata": {},
   "source": [
    "![alt text](bancoResult.jpg)"
   ]
  },
  {
   "cell_type": "markdown",
   "metadata": {},
   "source": [
    "![alt text](sedia.jpg)"
   ]
  },
  {
   "cell_type": "code",
   "execution_count": 4,
   "metadata": {
    "collapsed": true
   },
   "outputs": [],
   "source": [
    "def schoolChair(dx,dy,dz):\n",
    "    black=color(0,0,0)\n",
    "    wood=color(205,133,63)\n",
    "    \n",
    "    dzPart=(dz/2.0)-0.015\n",
    "    print(dzPart)\n",
    "    p=STRUCT([T(3)(dzPart),CUBOID([0.015,dy,0.015])])\n",
    "    p2=CUBOID([0.015,0.015,dzPart])\n",
    "    p2=STRUCT([p2,T([2])([dy-0.015]),p2,T([3])([(dzPart+0.015)]),p2])\n",
    "    p=STRUCT([p,p2])\n",
    "    p=STRUCT([p,T(1)(dx-0.015),p])\n",
    "    p2=CUBOID([dx,0.015,0.015])\n",
    "    p2=STRUCT([T([2,3])([dy-0.015,dz-0.015]),p2])\n",
    "    p=STRUCT([p,p2])\n",
    "    struct=STRUCT([COLOR(black),p])\n",
    "    \n",
    "    base= CUBOID([dx,dy-0.015,0.01])\n",
    "    \n",
    "    schienale= CUBOID([dx,0.01,dzPart/2.])\n",
    "    \n",
    "    parts= STRUCT([T(3)(dzPart+0.015),base,T([2,3])([dy-0.025,(dzPart/2)+0.015]),schienale])\n",
    "    parts=STRUCT([COLOR(wood),parts])\n",
    "    \n",
    "    chair=STRUCT([struct,parts])\n",
    "    \n",
    "    return chair"
   ]
  },
  {
   "cell_type": "markdown",
   "metadata": {},
   "source": [
    "![alt text](sediaResult.jpg)"
   ]
  },
  {
   "cell_type": "markdown",
   "metadata": {},
   "source": [
    "![alt text](cattedra.jpg)"
   ]
  },
  {
   "cell_type": "code",
   "execution_count": 74,
   "metadata": {
    "collapsed": false
   },
   "outputs": [],
   "source": [
    "def teachingPost(dx,dy,dz):\n",
    "    green=color(0,204,153)\n",
    "    wood=color(205,133,63)\n",
    "    darkWood=color(150,75,0)\n",
    "    metal=color(178,178,178)\n",
    "    \n",
    "    dzColor=dz-0.0001\n",
    "    dxS=dx-0.005\n",
    "    dzS=dz-0.02\n",
    "    dxDownDesk=dxS-0.02\n",
    "    dzDownDesk=dzS-0.12\n",
    "    \n",
    "    colorDeskVertex=[[0,0,dz],[dx,0,dz],[dx,dy,dz],[0,dy,dz],[0,0,dzColor],[dx,0,dzColor],[dx,dy,dzColor],[0,dy,dzColor]]\n",
    "    colorDeskCells=[[1,2,3,4,5,6,7,8]]\n",
    "    colorDesk=MKPOL([colorDeskVertex,colorDeskCells,None])\n",
    "    colorDesk=STRUCT([COLOR(green),colorDesk])\n",
    "    \n",
    "    upDeskVertex=[[0,0,dz],[dx,0,dz],[dx,dy,dz],[0,dy,dz],[0,0,dzS],[dx,0,dzS],[dx,dy,dzS],[0,dy,dzS]]\n",
    "    upDeskCells=[[1,2,3,4,5,6,7,8]]\n",
    "    upDesk=MKPOL([upDeskVertex,upDeskCells,None])\n",
    "    upDesk=STRUCT([COLOR(wood),upDesk])\n",
    "    \n",
    "    \n",
    "    sDeskVertex=[[0.0025,0.,dzS],[dxS,0,dzS],\n",
    "                    [dxS,0.02,dzS],[0.0025,0.02,dzS],\n",
    "                 [0.0025,0.,0],[0.0225,0.,0],\n",
    "                 [0.0225,0.02,0],[0.0025,0.02,0],\n",
    "                 [0.0225,0,dzS-0.02],[0.0225,0.02,dzS-0.02],\n",
    "                 \n",
    "                 [dxS-0.02,0.,0],[dxS,0.,0],\n",
    "                 [dxS,0.02,0],[dxS-0.02,0.02,0],\n",
    "                 [dxS-0.02,0,dzS-0.02],[dxS-0.02,0.02,dzS-0.02],\n",
    "                [0.0025,0,dzS-0.02],[0.0025,0.02,dzS-0.02],[dxS,0,dzS-0.02],[dxS,0.02,dzS-0.02]]\n",
    "                                 \n",
    "\n",
    "    sDeskCells=[[5,6,7,8,9,10,17,18],[1,2,3,4,19,20,17,18],[11,12,13,14,19,16,20,15]]\n",
    "    sDesk=MKPOL([sDeskVertex,sDeskCells,None])\n",
    "    sDesk=STRUCT([COLOR(metal),sDesk])\n",
    "    sDesk=STRUCT([sDesk,T(2)(dy-0.02),sDesk])\n",
    "    \n",
    "    bar = STRUCT([T([2,3])([0.02,0.25]),COLOR(metal),CUBOID([0.02,dy-0.04,0.02])])\n",
    "    bar=STRUCT([bar,T(1)(dx-0.025),bar])\n",
    "    bar = STRUCT([bar,T([2,3])([dy-0.2,0.25]),COLOR(metal),CUBOID([dxS-0.02,0.02,0.02])])\n",
    "    \n",
    "    \n",
    "    \n",
    "    \n",
    "    panel = STRUCT([CUBOID([0.02,dy,dz/2.])])\n",
    "    panel=STRUCT([T([1,3])([0.025,0.27]),panel])\n",
    "    panel=STRUCT([panel,T([1])([dx-0.05-0.02]),panel])\n",
    "    panel=STRUCT([panel,T([2,3])([dy,0.27]),CUBOID([dx,0.02,dz/2.])])\n",
    "    panel=STRUCT([COLOR(darkWood),panel])\n",
    "    \n",
    "    desk=STRUCT([bar,sDesk,upDesk,colorDesk,panel])\n",
    "   \n",
    "    return desk\n",
    "    "
   ]
  },
  {
   "cell_type": "code",
   "execution_count": 77,
   "metadata": {
    "collapsed": false
   },
   "outputs": [
    {
     "name": "stdout",
     "output_type": "stream",
     "text": [
      "0.485\n"
     ]
    },
    {
     "data": {
      "text/plain": [
       "<pyplasm.xgepy.Hpc; proxy of <Swig Object of type 'std::shared_ptr< Hpc > *' at 0x000000000A3F8CC0> >"
      ]
     },
     "execution_count": 77,
     "metadata": {},
     "output_type": "execute_result"
    }
   ],
   "source": [
    "VIEW(schoolChair(1.5,0.7,1))\n"
   ]
  },
  {
   "cell_type": "code",
   "execution_count": null,
   "metadata": {
    "collapsed": true
   },
   "outputs": [],
   "source": []
  }
 ],
 "metadata": {
  "kernelspec": {
   "display_name": "Python 2",
   "language": "python",
   "name": "python2"
  },
  "language_info": {
   "codemirror_mode": {
    "name": "ipython",
    "version": 2
   },
   "file_extension": ".py",
   "mimetype": "text/x-python",
   "name": "python",
   "nbconvert_exporter": "python",
   "pygments_lexer": "ipython2",
   "version": "2.7.12"
  }
 },
 "nbformat": 4,
 "nbformat_minor": 1
}
