{
 "cells": [
  {
   "cell_type": "markdown",
   "metadata": {},
   "source": [
    "# Stair landings"
   ]
  },
  {
   "cell_type": "markdown",
   "metadata": {},
   "source": [
    "Workshop N.3- Nicola Sardella - 440648"
   ]
  },
  {
   "cell_type": "markdown",
   "metadata": {},
   "source": [
    "<H1>[Struttura di riferimento](http://www.builderbill-diy-help.com/image-files/xst-half2.gif.pagespeed.ic.rX-ZF-GupS.png)</H1>\n",
    "![alt text](scale.png)"
   ]
  },
  {
   "cell_type": "markdown",
   "metadata": {},
   "source": [
    "<H2>geometric method:</H2>\n",
    "La funzione prende in input tre parametri dx, dy, dz (in metri). Questi parametri corrispondono alle dimensioni totali della struttura.\n",
    "La profondità della pedata di un gradino (variabile p) sarà in funzione del parametro dy, mentre l'altezza dell'alzata in funzione del parametro dz.\n",
    "La larghezza dell'alzata e della pedata sono in funzione del parametro dx, in particolare dx/2.\n",
    "La singola rampa avrà altezza complessiva (dx-altezza pianerottolo)/2.\n",
    "Si sfrutta la proporzione tra alzata e pedata: 2a+p=(62-64)cm\n",
    "In fine il pianerottolo sarà proporzionale alla dimensione dy, in particolare sarà 1/4 di dy.\n",
    "    "
   ]
  },
  {
   "cell_type": "code",
   "execution_count": 1,
   "metadata": {
    "collapsed": false
   },
   "outputs": [
    {
     "name": "stdout",
     "output_type": "stream",
     "text": [
      "Evaluating fenvs.py..\n",
      "...fenvs.py imported in 0.00592215749911 seconds\n"
     ]
    },
    {
     "name": "stderr",
     "output_type": "stream",
     "text": [
      "c:\\python27(64)\\lib\\site-packages\\larlib\\larstruct.py:233: FutureWarning: comparison to `None` will result in an elementwise object comparison in the future.\n",
      "  self.body = [item for item in data if item != None]\n"
     ]
    }
   ],
   "source": [
    "from pyplasm import *\n",
    "from larlib import *"
   ]
  },
  {
   "cell_type": "code",
   "execution_count": null,
   "metadata": {
    "collapsed": false
   },
   "outputs": [],
   "source": [
    "\"\"\"this function returns some HTC values, representative of a space frame. \n",
    "Input: \n",
    "bx,bz (given dimensions of beam section), \n",
    "px,py (given dimensions of pillar section), \n",
    "[dy1,dy2,...] (distances between axes of the pillars), \n",
    "[hz1,hz2,...] (interstory heights)\"\"\"\n",
    "def ggpl_stair_landings(dx,dy,dz):\n",
    "    a=0.165 #alzata base per gradini\n",
    "    \n",
    "    \n",
    "    frazioneA= dz/a\n",
    "    nGradini = modf(frazioneA)[1]\n",
    "    alzata=dz/nGradini\n",
    "    nGradini=nGradini-1\n",
    "    yPianerottolo = dy/3.0\n",
    "    frazioneP=(dy-yPianerottolo)\n",
    "    pedata=frazioneP/(nGradini/2)\n",
    "    verifica=pedata+2*alzata;\n",
    "    lGradino = dx/2\n",
    "    pianerottolo=CUBOID([dx,yPianerottolo,alzata])\n",
    "    if verifica>=0.62 and verifica<=0.64:\n",
    "        scala=[]\n",
    "        scala2=[]\n",
    "        g1=0\n",
    "        g2=0\n",
    "        scala.append(T([1])(lGradino))\n",
    "        if nGradini%2==0:\n",
    "            g1=nGradini/2\n",
    "            g2=nGradini/2\n",
    "        else:\n",
    "            g1=((nGradini-1)/2)+1\n",
    "            g2=(nGradini-1)/2\n",
    "        for i in range (1,int(g1)):\n",
    "            scala.append(CUBOID([lGradino,pedata,alzata]))\n",
    "            scala.append(T([1,2,3])([0,pedata,alzata]))\n",
    "        scala.append(CUBOID([lGradino,pedata,alzata]))\n",
    "        scala.append(T([1,2,3])([-lGradino,pedata,alzata]))\n",
    "        scala.append(pianerottolo)\n",
    "        scala2.append(T([1,2,3])([-lGradino,-(frazioneP+pedata),alzata*(g1+1)]))\n",
    "        for i in range (1,int(g1)):\n",
    "            scala2.append(CUBOID([lGradino,pedata,alzata]))\n",
    "            scala2.append(T([1,2,3])([0,pedata,alzata]))\n",
    "        scala2.append(CUBOID([lGradino,pedata,alzata]))\n",
    "        s=STRUCT([STRUCT(scala),R([1,2])(PI),STRUCT(scala2)])\n",
    "        \n",
    "        \n",
    "        VIEW(s)\n",
    "            \n",
    "    else:\n",
    "                        print(\"Errore input sbagliato! 2a+b=\"+ str(verifica) + \" deve essere compreso tra 0.62 e 0.64\")\n",
    "            \n",
    "    "
   ]
  },
  {
   "cell_type": "code",
   "execution_count": null,
   "metadata": {
    "collapsed": false
   },
   "outputs": [],
   "source": [
    "ggpl_stair_landings(3.2,3.2,2.8)"
   ]
  },
  {
   "cell_type": "code",
   "execution_count": null,
   "metadata": {
    "collapsed": true
   },
   "outputs": [],
   "source": []
  },
  {
   "cell_type": "code",
   "execution_count": null,
   "metadata": {
    "collapsed": true
   },
   "outputs": [],
   "source": []
  }
 ],
 "metadata": {
  "kernelspec": {
   "display_name": "Python 2",
   "language": "python",
   "name": "python2"
  },
  "language_info": {
   "codemirror_mode": {
    "name": "ipython",
    "version": 2
   },
   "file_extension": ".py",
   "mimetype": "text/x-python",
   "name": "python",
   "nbconvert_exporter": "python",
   "pygments_lexer": "ipython2",
   "version": "2.7.12"
  }
 },
 "nbformat": 4,
 "nbformat_minor": 1
}
