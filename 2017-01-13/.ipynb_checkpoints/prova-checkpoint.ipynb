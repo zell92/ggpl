{
 "cells": [
  {
   "cell_type": "markdown",
   "metadata": {},
   "source": [
    "# ROOF DESIGN\n",
    "![ReferenceImage](ref1.jpg)\n",
    "![ReferenceImage](ref2.jpg)"
   ]
  },
  {
   "cell_type": "code",
   "execution_count": 19,
   "metadata": {
    "collapsed": false
   },
   "outputs": [],
   "source": [
    "from larlib import *\n",
    "#distance of parallel line\n",
    "parallelDistance = .8"
   ]
  },
  {
   "cell_type": "code",
   "execution_count": 20,
   "metadata": {
    "collapsed": false
   },
   "outputs": [],
   "source": [
    "\"\"\"\n",
    "Given two points, creates the parallel line\n",
    "\"\"\"\n",
    "def perpendicularRectLine(A,B):\n",
    "    #(x2-x1)y+(y1-y2)x+y1(x1-x2)+x1(y2-1)\n",
    "    x1,y1,z1 = A\n",
    "    x2,y2,z2 = B\n",
    "    \n",
    "    #get the currente angle with x-axis\n",
    "    angle = ATAN2([ (y1-y2), (x2-x1) ])\n",
    "    \n",
    "    A1 = [x1+COS(angle)*parallelDistance, y1+SIN(angle)*parallelDistance,z1]\n",
    "    B2 = [x2+COS(angle)*parallelDistance, y2+SIN(angle)*parallelDistance,z2]\n",
    "    \n",
    "    mk = STRUCT(MKPOLS( [[A,B,A1,B2], [[0,1,2,3]], None ] ))\n",
    "    return mk"
   ]
  },
  {
   "cell_type": "code",
   "execution_count": 21,
   "metadata": {
    "collapsed": false,
    "scrolled": true
   },
   "outputs": [],
   "source": [
    "\"\"\"\n",
    "From two vertices and an angle in radiants, create the polygon that has as its rotation axis\n",
    "the straight line passing through the two points, with the desired rotation \n",
    "\"\"\"\n",
    "def createPitch(A,B,rad):\n",
    "    x1,y1,z1 = A\n",
    "    x2,y2,z2 = B\n",
    "    \n",
    "    objRot = perpendicularRectLine(A,B)\n",
    "    #find the angle of the line\n",
    "    angle = ATAN2([ (x2-x1), (y1-y2) ])\n",
    "\n",
    "    #move to axis origin\n",
    "    toOrigin=T([1,2])([-A[0], -A[1]])(objRot)\n",
    "    #straighten\n",
    "    toOrigin = R([1,2])(angle)(toOrigin)\n",
    "    #rotate\n",
    "    rotation=R([2,3])(rad)(toOrigin)\n",
    "    #move to original position with the original rotation\n",
    "    originPitch = R([1,2])(-angle)(rotation)\n",
    "    \n",
    "    return T([1,2])([A[0], A[1]])(originPitch)"
   ]
  },
  {
   "cell_type": "code",
   "execution_count": 22,
   "metadata": {
    "collapsed": true
   },
   "outputs": [],
   "source": [
    "\"\"\"\n",
    "Round a 3d-point\n",
    "\"\"\"\n",
    "def roundPoint(A):\n",
    "    l = []\n",
    "    for i in A:\n",
    "        l.append(round(i, 5))\n",
    "    return l"
   ]
  },
  {
   "cell_type": "code",
   "execution_count": 23,
   "metadata": {
    "collapsed": true
   },
   "outputs": [],
   "source": [
    "\"\"\"\n",
    "Calculate equation of a plane passing through three points\n",
    "\"\"\"\n",
    "def planeEquation(A,B,C):\n",
    "    x1,y1,z1 = roundPoint(A)\n",
    "    x2,y2,z2 = roundPoint(B)\n",
    "    x3,y3,z3 = roundPoint(C)\n",
    "    \n",
    "    vector1 = [x2 - x1, y2 - y1, z2 - z1]\n",
    "    vector2 = [x3 - x1, y3 - y1, z3 - z1]\n",
    "\n",
    "    cross_product = [vector1[1] * vector2[2] - vector1[2] * vector2[1], -1 * (vector1[0] * vector2[2] - vector1[2] * vector2[0]), vector1[0] * vector2[1] - vector1[1] * vector2[0]]\n",
    "\n",
    "    a = cross_product[0]\n",
    "    b = cross_product[1]\n",
    "    c = cross_product[2]\n",
    "    d = - (cross_product[0] * x1 + cross_product[1] * y1 + cross_product[2] * z1)\n",
    "    return [a,b,c,d]"
   ]
  },
  {
   "cell_type": "code",
   "execution_count": 24,
   "metadata": {
    "collapsed": false
   },
   "outputs": [],
   "source": [
    "\"\"\"\n",
    "Calculate point of intersection of 3 planes\n",
    "Round the result\n",
    "\"\"\"\n",
    "def intersection(plane1, plane2, plane3):\n",
    "    A = numpy.array([plane1[:3], plane2[:3], plane3[:3]])\n",
    "    B = -1*numpy.array([plane1[-1], plane2[-1], plane3[-1]])\n",
    "    return roundPoint(list(numpy.linalg.solve(A,B)))\n"
   ]
  },
  {
   "cell_type": "code",
   "execution_count": 25,
   "metadata": {
    "collapsed": true
   },
   "outputs": [],
   "source": [
    "\"\"\"\n",
    "Create roof from the intersection points at the height of z\n",
    "\"\"\"\n",
    "def createRoof(l, z):\n",
    "    pol = []\n",
    "    for i in range(len(l)):\n",
    "        p1x,p1y = l[i-1][0],l[i-1][1]\n",
    "        p2x,p2y = l[i][0],l[i][1]\n",
    "        pol.append(MKPOL( [ [[p1x,p1y],[p2x,p2y]],[[1,2]],None ] ))\n",
    "    return T(3)(z)(SOLIDIFY(STRUCT(pol)))\n"
   ]
  },
  {
   "cell_type": "code",
   "execution_count": 26,
   "metadata": {
    "collapsed": true
   },
   "outputs": [],
   "source": [
    "def roof_from_border(V,F,z,rad):\n",
    "    roofPlaneEq = [0.0, -0.0, 1.0, -z]\n",
    "    pitches = []\n",
    "    #pitch creation\n",
    "    for i in F:\n",
    "        A = V[i[0]-1]\n",
    "        B = V[i[1]-1]\n",
    "        fsa = createPitch(A,B,rad)\n",
    "        pitches.append(fsa)\n",
    "        \n",
    "    interPoint = []\n",
    "    #find Intersection points\n",
    "    for i in range(len(pitches)):\n",
    "        #find equation of each pitch\n",
    "        pol1 = UKPOL(pitches[i-1])[0]\n",
    "        a,b,c= roundPoint(pol1[0]), roundPoint(pol1[1]), roundPoint(pol1[2])\n",
    "\n",
    "        pol2 = UKPOL(pitches[i])[0]\n",
    "        a1,b1,c1= roundPoint(pol2[0]), roundPoint(pol2[1]), roundPoint(pol2[2])\n",
    "\n",
    "        p1 = planeEquation(a,b,c)\n",
    "        p2 = planeEquation(a1,b1,c1)\n",
    "\n",
    "        p = intersection(p1,p2,roofPlaneEq)\n",
    "        interPoint.append(p)\n",
    "    \n",
    "    \n",
    "    #create Pitches from intersection Points\n",
    "    pitchesInter = []\n",
    "    for i in range(len(interPoint)):\n",
    "        v1 = V[i-1]\n",
    "        v2 = V[i]\n",
    "        i2 = interPoint[i]\n",
    "        i1 = interPoint[i-1]\n",
    "        pitch = MKPOL([ [v1,v2,i2,i1],[[1,2,3,4]],None ])\n",
    "        pitchesInter.append(pitch)\n",
    "    \n",
    "    return [STRUCT(pitchesInter), createRoof(interPoint, z)]\n"
   ]
  },
  {
   "cell_type": "code",
   "execution_count": 27,
   "metadata": {
    "collapsed": false,
    "scrolled": true
   },
   "outputs": [
    {
     "data": {
      "text/plain": [
       "<pyplasm.xgepy.Hpc; proxy of <Swig Object of type 'std::shared_ptr< Hpc > *' at 0x000000000C219F60> >"
      ]
     },
     "execution_count": 27,
     "metadata": {},
     "output_type": "execute_result"
    }
   ],
   "source": [
    "V = [[0,0,0],[3,0,0],[3,6,0],[2,6,0],[2,3,0],[0,3,0]]\n",
    "F = [[1,2],[2,3],[3,4],[4,5],[5,6],[6,1]]\n",
    "z = 0.5 #altezza del tetto\n",
    "\n",
    "falde, tetto = roof_from_border(V,F,z,PI/4)\n",
    "falde = TEXTURE([\"Tetto.jpg\", TRUE, FALSE, 1, 1, 0, 6, 6])(falde)\n",
    "tetto = TEXTURE([\"piastre.jpg\", TRUE, FALSE, 1, 1, 0, 6, 6])(tetto)\n",
    "VIEW(STRUCT([falde, tetto]))\n",
    "\n",
    "V = [[1.0,1.0,0.0],[2.0,2.0,0.0],[2.0,4.0,0.0],[1.0,3.0,0.0]]\n",
    "F = [[1,2],[2,3],[3,4],[4,1]]\n",
    "# VIEW(STRUCT(roof_from_border(V,F,.5)))\n",
    "\n",
    "falde, tetto = roof_from_border(V,F,z,PI/4)\n",
    "falde = TEXTURE([\"Tetto.jpg\", TRUE, FALSE, 1, 1, 0, 6, 6])(falde)\n",
    "tetto = TEXTURE([\"piastre.jpg\", TRUE, FALSE, 1, 1, 0, 6, 6])(tetto)\n",
    "VIEW(STRUCT([falde, tetto]))\n",
    "\n",
    "\n",
    "V = [[0,0,0],[3,0,0],[3,6,0],[1,6,0],[1,3,0],[0,4,0]]\n",
    "F = [[1,2],[2,3],[3,4],[4,5],[5,6],[6,1]]\n",
    "\n",
    "falde, tetto = roof_from_border(V,F,z,PI/4)\n",
    "falde = TEXTURE([\"Tetto.jpg\", TRUE, FALSE, 1, 1, 0, 6, 6])(falde)\n",
    "tetto = TEXTURE([\"piastre.jpg\", TRUE, FALSE, 1, 1, 0, 6, 6])(tetto)\n",
    "VIEW(STRUCT([falde, tetto]))\n",
    "\n",
    "V = [[0,0,0],[3,0,0],[3,6,0],[2,6,0],[2,3,0],[0,3,0]]\n",
    "F = [[1,2],[2,3],[3,4],[4,5],[5,6],[6,1]]\n",
    "\n",
    "falde, tetto = roof_from_border(V,F,.8,PI/3)\n",
    "falde = TEXTURE([\"Tetto.jpg\", TRUE, FALSE, 1, 1, 0, 6, 6])(falde)\n",
    "tetto = TEXTURE([\"piastre.jpg\", TRUE, FALSE, 1, 1, 0, 6, 6])(tetto)\n",
    "VIEW(STRUCT([falde, tetto]))"
   ]
  },
  {
   "cell_type": "code",
   "execution_count": null,
   "metadata": {
    "collapsed": true
   },
   "outputs": [],
   "source": []
  },
  {
   "cell_type": "markdown",
   "metadata": {
    "collapsed": false
   },
   "source": [
    "## Mansard Roof\n",
    "![ReferenceImage](mansard.png)\n",
    "\n",
    "## High Mansard Roof\n",
    "![ReferenceImage](high.png)\n",
    "\n",
    "## No Mansard Roof\n",
    "![ReferenceImage](no-mansar.png)\n",
    "\n",
    "## Complex Mansard Roof\n",
    "![ReferenceImage](complex-mansard.png)\n"
   ]
  },
  {
   "cell_type": "code",
   "execution_count": null,
   "metadata": {
    "collapsed": false
   },
   "outputs": [],
   "source": []
  },
  {
   "cell_type": "code",
   "execution_count": null,
   "metadata": {
    "collapsed": true
   },
   "outputs": [],
   "source": []
  },
  {
   "cell_type": "code",
   "execution_count": null,
   "metadata": {
    "collapsed": true
   },
   "outputs": [],
   "source": []
  }
 ],
 "metadata": {
  "kernelspec": {
   "display_name": "Python 2",
   "language": "python",
   "name": "python2"
  },
  "language_info": {
   "codemirror_mode": {
    "name": "ipython",
    "version": 2
   },
   "file_extension": ".py",
   "mimetype": "text/x-python",
   "name": "python",
   "nbconvert_exporter": "python",
   "pygments_lexer": "ipython2",
   "version": "2.7.12"
  }
 },
 "nbformat": 4,
 "nbformat_minor": 1
}
