{
 "cells": [
  {
   "cell_type": "code",
   "execution_count": 46,
   "metadata": {
    "collapsed": false
   },
   "outputs": [],
   "source": [
    "from pyplasm import *\n",
    "import csv"
   ]
  },
  {
   "cell_type": "markdown",
   "metadata": {
    "collapsed": true
   },
   "source": [
    "# House Modeling\n",
    "\n",
    "![pianimetria](casa.jpg)\n",
    "\n",
    "La pianimetria riportata in figura rappresenta il modello di riferimento per la realizzazione finale. <br>\n",
    "In input, Il software, deve prendere dei files .lines.<br>\n",
    "Questi file sono generati attraverso un tool online da file svg, chiamato svg2lines (http://cvdlab.github.io/svg2lines/).\n",
    "\n",
    "Per generare i file svg, viene usato il programma \"inkscape\".\n",
    "Con l'ausilio di questo programma, vengono selezionati i vari bordi (o aree) della planimetria per identificare rispettivamente:\n",
    "\n",
    "- Mura esterne\n",
    "\n",
    "![pianimetria](/svg/esterno.svg)\n",
    "\n",
    "- Muri interni\n",
    "\n",
    "![pianimetria](svg/interno.svg)\n",
    "\n",
    "- Finestre\n",
    "\n",
    "![pianimetria](svg/finestre.svg)\n",
    "\n",
    "- Porte\n",
    "\n",
    "![pianimetria](svg/porte.svg)\n",
    "\n",
    "- Pavimento box\n",
    "\n",
    "![pianimetria](svg/pavimentoBox.svg)\n",
    "\n",
    "- Pavimento bagno\n",
    "\n",
    "![pianimetria](svg/pavimentoBagno.svg)\n",
    "\n",
    "- Pavimento camere\n",
    "\n",
    "![pianimetria](svg/pavimentoCamere.svg)\n",
    "\n",
    "- Pavimento resto della casa\n",
    "\n",
    "![pianimetria](svg/pavimentoParquet.svg)\n",
    "\n",
    "\n",
    "\n",
    "Per generare il modello dell'intera casa, si utilizzano due funzioni principali.\n",
    "\n",
    "1. building_wall: Crea le mura e applica la rispettiva texture (utilizzata per creare i muri interni ed esterni)\n",
    "\n",
    "2. building_floor: Crea il pavimento (usata per ogni zona con lo stesso pavimento)"
   ]
  },
  {
   "cell_type": "markdown",
   "metadata": {},
   "source": [
    "## Funzione 1: Creazione Muri"
   ]
  },
  {
   "cell_type": "code",
   "execution_count": 47,
   "metadata": {
    "collapsed": false
   },
   "outputs": [],
   "source": [
    "def building_wall(nameLines_path,texture_path,depthWall):\n",
    "\t\"\"\"\n",
    "\tbuilding_house is a function that generate the HPC Model represent the wall structure by the input file in .lines files.\n",
    "\t@input nameLines_path,texture_path,depthWall: path of .lines file, path of texture image, depth of the wall structure.\n",
    "\t@return [walls,xfactor,yfactor]: HPC Model represent the structure, the factors for scaling the structure in x and y.\n",
    "\t\"\"\"\n",
    "\n",
    "\t#creo i muri\n",
    "\twith open(nameLines_path, \"rb\") as file:\n",
    "\t\treader = csv.reader(file, delimiter=\",\")\n",
    "\t\tlistWalls = []\n",
    "\t\tfor row in reader:\n",
    "\t\t\tlistWalls.append(POLYLINE([[float(row[3]), float(row[2])],[float(row[1]), float(row[0])]]))\n",
    "\twalls = STRUCT(listWalls)\n",
    "\tfloor = SOLIDIFY(walls)\n",
    "\txfactor = 25/SIZE([1])(walls)[0]\n",
    "\tyfactor = 15.1/SIZE([2])(walls)[0]\n",
    "\twalls = OFFSET([depthWall,depthWall])(walls)\n",
    "\twalls = PROD([walls, Q(3/xfactor)])\n",
    "\tstructure= buildingDoorsAndWindows(walls,depthWall,xfactor,yfactor,listWalls,texture_path)\n",
    "\tVIEW(walls)\n",
    "\treturn structure"
   ]
  },
  {
   "cell_type": "code",
   "execution_count": 48,
   "metadata": {
    "collapsed": true
   },
   "outputs": [],
   "source": [
    "def buildingDoorsAndWindows(walls,depthWall,xfactor,yfactor,listWalls,texture_path):\n",
    "    #creo le porte\n",
    "\twith open(\"lines/porte.lines\", \"rb\") as file:\n",
    "\t\treader = csv.reader(file, delimiter=\",\")\n",
    "\t\tdoorsList = []\n",
    "\t\tcuboid = []\n",
    "\t\tacc = 0\n",
    "\t\tfor row in reader:\n",
    "\t\t\tacc = acc + 1\n",
    "\t\t\tcuboid.append([float(row[1]),float(row[0])])\n",
    "\t\t\tif(acc == 4):\n",
    "\t\t\t\tdoorsList.append(MKPOL([cuboid,[[1,2,3,4]],None]))\n",
    "\t\t\t\tcuboid = []\n",
    "\t\t\t\tacc = 0\n",
    "\tdoors = STRUCT(doorsList)\n",
    "\tdoors = PROD([doors, Q(2.5/xfactor)])\n",
    "\t#creo le finestre\n",
    "\twith open(\"lines/finestre.lines\", \"rb\") as file:\n",
    "\t\treader = csv.reader(file, delimiter=\",\")\n",
    "\t\twindowList = []\n",
    "\t\tcuboid = []\n",
    "\t\tacc = 0\n",
    "\t\tfor row in reader:\n",
    "\t\t\tacc = acc + 1\n",
    "\t\t\tcuboid.append([float(row[1]),float(row[0])])\n",
    "\t\t\tif(acc == 4):\n",
    "\t\t\t\twindowList.append(MKPOL([cuboid,[[1,2,3,4]],None]))\n",
    "\t\t\t\tcuboid = []\n",
    "\t\t\t\tacc = 0\n",
    "\twindows = STRUCT(windowList)\n",
    "\twindows = PROD([windows, Q(SIZE([3])(walls)[0]/2.)])\n",
    "\twindows = T(3)(SIZE([3])(walls)[0]/4.)(windows)\n",
    "\t#per ogni muro sottraggo la porta e la finestra e gli applico la texture\n",
    "\twalls=[]\n",
    "\n",
    "\tfor w in listWalls:\n",
    "\t\tw=STRUCT([w])\n",
    "\t\tw= OFFSET([depthWall,depthWall])(w)\n",
    "\t\tw=PROD([w,Q(3/xfactor)])\n",
    "\t\t#w = (S([1,2,3])([xfactor,yfactor, xfactor])(w))\n",
    "\t\tw=DIFFERENCE([w,windows,doors])\n",
    "\t\tw=STRUCT([R([2,3])(PI/2),w])\n",
    "\t\tw=TEXTURE([texture_path, FALSE, TRUE, 1, 1, 0, 2, 2])(w)\n",
    "\t\tw=STRUCT([R([2,3])(-PI/2),w])\n",
    "\t\twalls.append(w)\n",
    "\twalls=STRUCT(walls)\n",
    "\treturn [walls,xfactor,yfactor]"
   ]
  },
  {
   "cell_type": "markdown",
   "metadata": {},
   "source": [
    "## Funzione 2: Creazione pavimento"
   ]
  },
  {
   "cell_type": "code",
   "execution_count": 49,
   "metadata": {
    "collapsed": true
   },
   "outputs": [],
   "source": [
    "def building_floor(nameLines_path):\n",
    "\t\"\"\"\n",
    "\tbuilding_floor is a function that generate the HPC Model represent the floor structure by the input file in .lines files.\n",
    "\t@input nameLines_path: path of .lines file.\n",
    "\t@return floor: HPC Model represent the structure.\n",
    "\t\"\"\"\n",
    "\t#creo i pavimenti\n",
    "\twith open(nameLines_path, \"rb\") as file:\n",
    "\t\treader = csv.reader(file, delimiter=\",\")\n",
    "\t\tfloorList = []\n",
    "\t\tcuboid = []\n",
    "\t\tacc = 0\n",
    "\t\tfor row in reader:\n",
    "\t\t\tacc = acc + 1\n",
    "\t\t\tcuboid.append([float(row[1]),float(row[0])])\n",
    "\t\t\tif(acc == 4):\n",
    "\t\t\t\tfloorList.append(MKPOL([cuboid,[[1,2,3,4]],None]))\n",
    "\t\t\t\tcuboid = []\n",
    "\t\t\t\tacc = 0\n",
    "\tfloor = STRUCT(floorList)\n",
    "\treturn floor"
   ]
  },
  {
   "cell_type": "markdown",
   "metadata": {},
   "source": [
    "## Creazione HPC intera casa"
   ]
  },
  {
   "cell_type": "code",
   "execution_count": 50,
   "metadata": {
    "collapsed": true
   },
   "outputs": [],
   "source": [
    "def ggpl_building_house():\n",
    "\t\"\"\"\n",
    "\tggpl_building_house is a function that generate the HPC Model represent the house structure by the input file in .lines files.\n",
    "\t@return house: HPC Model represent the structure.\n",
    "\t\"\"\"\n",
    "\texternal=building_wall(\"lines/esterno.lines\",\"texture/wall_external.jpg\",14)\n",
    "\tinternal= building_wall(\"lines/interno.lines\",\"texture/wall_internal.jpg\",7)\n",
    "\n",
    "\t#muri esterni\n",
    "\texternalWalls=external[0]\n",
    "\t#muri interni\n",
    "\tinternalWalls=internal[0]\n",
    "\t#fattori di scala x e y\n",
    "\txfactor=external[1]\n",
    "\tyfactor=external[2]\n",
    "\n",
    "\t#casa senza pavimenti\n",
    "\thouse=STRUCT([externalWalls,internalWalls])\n",
    "\t#ridimensiono la casa\t\n",
    "\thouse = (S([1,2,3])([xfactor,yfactor, xfactor])(house))\n",
    "\n",
    "\t#pavimento bagno\n",
    "\tbathFloor=building_floor(\"lines/bagno.lines\")\n",
    "\tbathFloor=TEXTURE([\"texture/bath.jpg\", TRUE, FALSE, 1, 1, 0, 12, 12])(bathFloor)\n",
    "\t#pavimento box\n",
    "\tboxFloor=building_floor(\"lines/box.lines\")\n",
    "\tboxFloor=TEXTURE([\"texture/box.jpg\", TRUE, FALSE, 1, 1, 0, 2, 2])(boxFloor)\n",
    "\t#pavimento camere\n",
    "\tbedroomFloor=building_floor(\"lines/camere.lines\")\n",
    "\tbedroomFloor=TEXTURE([\"texture/bedroom.jpg\", TRUE, FALSE, 1, 1, 0, 2, 2])(bedroomFloor)\n",
    "\t#pavimento resto della casa\n",
    "\totherFloor=building_floor(\"lines/parquet.lines\")\n",
    "\totherFloor=TEXTURE([\"texture/parquet.jpg\", TRUE, FALSE, 1, 1, 0, 2, 2])(otherFloor)\n",
    "\n",
    "\t#pavimento totale\n",
    "\tfloor=STRUCT([bathFloor,boxFloor,bedroomFloor,otherFloor])\n",
    "\t#ridimensiono il pavimento\n",
    "\tfloor=(S([1,2,3])([xfactor,yfactor, xfactor])(floor))\n",
    "\n",
    "\t#casa con pavimento\n",
    "\thouse=STRUCT([house,floor])\n",
    "\n",
    "\t#aggiusto la casa rispetto gli assi\n",
    "\thouse=STRUCT([R([1,2])(-PI/2),house])\n",
    "\thouse=STRUCT([T([2])(SIZE(2)(house)),house])\n",
    "\n",
    "\treturn house\n",
    "    "
   ]
  },
  {
   "cell_type": "code",
   "execution_count": 51,
   "metadata": {
    "collapsed": false
   },
   "outputs": [
    {
     "data": {
      "text/plain": [
       "<pyplasm.xgepy.Hpc; proxy of <Swig Object of type 'std::shared_ptr< Hpc > *' at 0x000000000ACA0C30> >"
      ]
     },
     "execution_count": 51,
     "metadata": {},
     "output_type": "execute_result"
    }
   ],
   "source": [
    "VIEW(ggpl_building_house())"
   ]
  },
  {
   "cell_type": "code",
   "execution_count": null,
   "metadata": {
    "collapsed": true
   },
   "outputs": [],
   "source": []
  },
  {
   "cell_type": "markdown",
   "metadata": {},
   "source": [
    "### Risultati"
   ]
  },
  {
   "cell_type": "markdown",
   "metadata": {
    "collapsed": true
   },
   "source": [
    "![pianimetria](risultati1.png)\n",
    "![pianimetria](risultati2.png)\n",
    "![pianimetria](risultati3.png)"
   ]
  }
 ],
 "metadata": {
  "kernelspec": {
   "display_name": "Python 2",
   "language": "python",
   "name": "python2"
  },
  "language_info": {
   "codemirror_mode": {
    "name": "ipython",
    "version": 2
   },
   "file_extension": ".py",
   "mimetype": "text/x-python",
   "name": "python",
   "nbconvert_exporter": "python",
   "pygments_lexer": "ipython2",
   "version": "2.7.12"
  }
 },
 "nbformat": 4,
 "nbformat_minor": 0
}
