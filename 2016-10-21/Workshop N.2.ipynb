{
 "cells": [
  {
   "cell_type": "markdown",
   "metadata": {},
   "source": [
    "# Parametric (spatial) building frame in reinforced concrete"
   ]
  },
  {
   "cell_type": "markdown",
   "metadata": {},
   "source": [
    "Workshop N.2 - Nicola Sardella - 440648"
   ]
  },
  {
   "cell_type": "markdown",
   "metadata": {},
   "source": [
    "<H1>[Struttura di riferimento](http://www.ingenio-web.it/immagini/CKEditor/Imm_2.jpg)</H1>\n",
    "![alt text](Imm_2.jpg)"
   ]
  },
  {
   "cell_type": "markdown",
   "metadata": {},
   "source": [
    "<H2>Dati contenuti nel file csv:</H2>\n",
    "    "
   ]
  },
  {
   "cell_type": "markdown",
   "metadata": {},
   "source": [
    "| A | B | C | D |DIST |ALT      | \n",
    "|---|---|---|---|-----|---------|\n",
    "| 0 | 0 | 0 |   |     |         | \n",
    "|0.3|0.3|0.3|0.3|[4;4]|[2.5;2.5]|\n",
    "| 3 | 0 | 0 |   |     |         | \n",
    "|0.3|0.3|0.3|0.3|[4;4]|[2.5;2.5]|"
   ]
  },
  {
   "cell_type": "markdown",
   "metadata": {},
   "source": [
    "<h3>Librerie importate:</h3>"
   ]
  },
  {
   "cell_type": "code",
   "execution_count": 45,
   "metadata": {
    "collapsed": false
   },
   "outputs": [],
   "source": [
    "from pyplasm import *\n",
    "import csv"
   ]
  },
  {
   "cell_type": "markdown",
   "metadata": {},
   "source": [
    "<h3>Funzione per creare un telaio piano:</h3>"
   ]
  },
  {
   "cell_type": "code",
   "execution_count": 46,
   "metadata": {
    "collapsed": false
   },
   "outputs": [],
   "source": [
    "\"\"\"this function returns some HTC values, representative of a space frame. \n",
    "Input: \n",
    "bx,bz (given dimensions of beam section), \n",
    "px,py (given dimensions of pillar section), \n",
    "[dy1,dy2,...] (distances between axes of the pillars), \n",
    "[hz1,hz2,...] (interstory heights)\"\"\"\n",
    "def spaceFrame(bx,bz,px,py,distances,heights):\n",
    "    d=distances[0]*-1\n",
    "    h=heights[0]\n",
    "    if bx>px:\n",
    "        dist=(bx-px)/2.\n",
    "        pilX=[-dist,px]\n",
    "        beaX=[bx]\n",
    "    elif bx==px:\n",
    "        beaX=[bx]\n",
    "        pilX=[px]\n",
    "    else:\n",
    "        dist=(px-bx)/2.\n",
    "        beaX=[-dist,bx]\n",
    "        pilX=[px]\n",
    "    pilY=[py]\n",
    "    pilZ=[h]\n",
    "    beaY=[py/2,0]\n",
    "    beaZ=[h*-1,bz]\n",
    "    for d in distances:\n",
    "        pilY.append(d*-1);\n",
    "        pilY.append(py)\n",
    "        beaY.append((d)+py)\n",
    "    beaY.append(0)\n",
    "    #y.append(0)\n",
    "    #y.append(py)\n",
    "    for h in heights[1:]:\n",
    "        pilZ.append(bz*-1)\n",
    "        pilZ.append(h)\n",
    "        beaZ.append(h*-1)\n",
    "        beaZ.append(bz)\n",
    "    beaY.append(py/2)\n",
    "    pillarX=QUOTE(pilX)\n",
    "    pillarY=QUOTE(pilY)\n",
    "    pillarZ=QUOTE(pilZ)\n",
    "    beamsX=QUOTE(beaX)\n",
    "    beamsY=QUOTE(beaY)\n",
    "    beamsZ=QUOTE (beaZ)\n",
    "    beams2D=PROD([beamsX,beamsY])\n",
    "    beams3D=PROD([beams2D,beamsZ])\n",
    "    pillars2D=PROD([pillarX,pillarY])\n",
    "    pillars3D=PROD([pillars2D,pillarZ])\n",
    "    combine=STRUCT([beams3D,pillars3D])\n",
    "    return combine"
   ]
  },
  {
   "cell_type": "code",
   "execution_count": null,
   "metadata": {
    "collapsed": true
   },
   "outputs": [],
   "source": [
    "<h3>Funzione per creare le travi orizzontali:</h3>"
   ]
  },
  {
   "cell_type": "code",
   "execution_count": 47,
   "metadata": {
    "collapsed": false
   },
   "outputs": [],
   "source": [
    "\"\"\"this function returns some HTC values, representative of a orizzontal beams. Its dimension (in WxLxD) is bzXpyXpx\"\"\"\n",
    "def orizzontalBeams(bx,bz,py,px,distances,heights):\n",
    "    beaX=[-px,bx]\n",
    "    beaY=[]\n",
    "    beaZ=[]\n",
    "    for h in heights:\n",
    "        beaZ.append(-h)\n",
    "        beaZ.append(bz)\n",
    "    for d in distances:\n",
    "        beaY.append(py)\n",
    "        beaY.append(-d)\n",
    "    beaY.append(py)\n",
    "    beamsX=QUOTE(beaX)\n",
    "    beamsY=QUOTE(beaY)\n",
    "    beamsZ=QUOTE (beaZ)\n",
    "    beams2D=PROD([beamsX,beamsY])\n",
    "    beams3D=PROD([beams2D,beamsZ])\n",
    "    return beams3D"
   ]
  },
  {
   "cell_type": "markdown",
   "metadata": {
    "collapsed": true
   },
   "source": [
    "<h3>Funzione per leggere il file CSV e generare la struttura dell'edificio in cemento armato: </h3>"
   ]
  },
  {
   "cell_type": "code",
   "execution_count": null,
   "metadata": {
    "collapsed": false
   },
   "outputs": [],
   "source": [
    "\n",
    "\"\"\"this function returns a set of a space frame. \n",
    "Input: \n",
    "name (xxxxx in string of csv file named frame_data_xxxxx.csv)\"\"\"\n",
    "def ggpl_bone_structure(fileName):\n",
    "    r=None\n",
    "    vettore=[]\n",
    "    telaio=[]\n",
    "    traviOrizz=[]\n",
    "    struttura=[]\n",
    "    struttura2=[]\n",
    "    Vx=0\n",
    "    with open(fileName) as csvfile:\n",
    "        reader = csv.DictReader(csvfile)\n",
    "        c=1\n",
    "        i=0\n",
    "        for row in reader:\n",
    "            if c%2!=0 :#riga dispari\n",
    "                Vx=eval(row['A'])\n",
    "                Vy=eval(row['B'])\n",
    "                Vz=eval(row['C'])\n",
    "                vettore.append(T([1,2,3])([Vx,Vy,Vz]))\n",
    "            else:#riga pari\n",
    "                Bx=eval(row['A'])\n",
    "                Bz=eval(row['B'])\n",
    "                Px=eval(row['C'])\n",
    "                Py=eval(row['D'])\n",
    "                DIST=[]\n",
    "                for elem in row['DIST'].replace(\"]\",\"\").replace(\"[\",\"\").split(\";\"):\n",
    "                    DIST.append(eval(elem))\n",
    "                ALT=[]\n",
    "                for elem2 in row['ALT'].replace(\"]\",\"\").replace(\"[\",\"\").split(\";\"):\n",
    "                    ALT.append(eval(elem2))\n",
    "                d=spaceFrame(Bx,Bz,Px,Py,DIST,ALT)\n",
    "                telaio.append(d)\n",
    "                #costruisco le travi orizzontali per unire i telai\n",
    "                traviOrizz.append(orizzontalBeams(Vx,Bz,Py,Px,DIST,ALT))\n",
    "            c=c+1\n",
    "            \n",
    "    #Costruisco la serie di telai\n",
    "    onetoten = range(0,len(telaio))\n",
    "    for i in onetoten:\n",
    "        struttura.append(vettore[i])\n",
    "        struttura.append(telaio[i])\n",
    "        if(i+1<len(telaio)):\n",
    "            struttura2.append(vettore[i])\n",
    "            struttura2.append(traviOrizz[i+1])\n",
    "        \n",
    "    a=STRUCT(struttura2)\n",
    "    b=STRUCT(struttura)\n",
    "    return STRUCT([a,b])\n",
    "        \n",
    "    "
   ]
  },
  {
   "cell_type": "code",
   "execution_count": null,
   "metadata": {
    "collapsed": false,
    "scrolled": false
   },
   "outputs": [],
   "source": [
    "VIEW(ggpl_bone_structure(\"frame_data_440648.CSV\"))\n"
   ]
  },
  {
   "cell_type": "markdown",
   "metadata": {},
   "source": [
    "<H3>Risultato ottenuto:</H3>\n",
    "![alt text](Risultato.PNG)"
   ]
  }
 ],
 "metadata": {
  "kernelspec": {
   "display_name": "Python 2",
   "language": "python",
   "name": "python2"
  },
  "language_info": {
   "codemirror_mode": {
    "name": "ipython",
    "version": 2
   },
   "file_extension": ".py",
   "mimetype": "text/x-python",
   "name": "python",
   "nbconvert_exporter": "python",
   "pygments_lexer": "ipython2",
   "version": "2.7.12"
  }
 },
 "nbformat": 4,
 "nbformat_minor": 1
}
