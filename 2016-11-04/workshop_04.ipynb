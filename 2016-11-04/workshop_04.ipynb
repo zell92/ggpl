{
 "cells": [
  {
   "cell_type": "markdown",
   "metadata": {},
   "source": [
    "<h1>Roof Builder</h1>\n",
    "<h5>Nicola Sardella - 440648 - workshop 4</h5>"
   ]
  },
  {
   "cell_type": "markdown",
   "metadata": {},
   "source": [
    "<h2>Tetto 1 (semplice)</h2>\n",
    "![alt text](tetto1.jpg)"
   ]
  },
  {
   "cell_type": "markdown",
   "metadata": {},
   "source": [
    "<h2>Tetto 2 (complesso)</h2>\n",
    "![alt text](tetto2.jpg)"
   ]
  },
  {
   "cell_type": "code",
   "execution_count": 1,
   "metadata": {
    "collapsed": false
   },
   "outputs": [
    {
     "name": "stdout",
     "output_type": "stream",
     "text": [
      "Evaluating fenvs.py..\n",
      "...fenvs.py imported in 0.00529521621563 seconds\n"
     ]
    }
   ],
   "source": [
    "from pyplasm import *"
   ]
  },
  {
   "cell_type": "code",
   "execution_count": 2,
   "metadata": {
    "collapsed": false
   },
   "outputs": [],
   "source": [
    "vertici=[[0,0,0],[15,0,0],[15,10,0],[0,10,0],[5,5,0],[10,5,0],[5,5,2.5],[10,5,2.5]]\n",
    "celle=[[1,2,5,6,7,8],[2,3,6,8],[3,4,5,6,7,8],[1,4,5,7]]\n",
    "tetto1=MKPOL([vertici,celle,None])\n",
    "\n",
    "vertici2=[[0,0,0],[4,0,0],[4,6,0],[9,6,0],[9,10,0],[0,10,0],[7,8,0],[2,8,0],[2,2,0],[7,8,2.5],\n",
    "          [2,8,2.5],[2,2,2.5]]\n",
    "celle2=[[1,2,9,12],[2,3,8,9,12,11],[3,4,7,8,10,11],[4,5,7,10],[5,6,7,8,10,11],[1,6,8,9,12,11]]\n",
    "tetto2=MKPOL([vertici2,celle2,None])\n",
    "\n"
   ]
  },
  {
   "cell_type": "markdown",
   "metadata": {},
   "source": [
    "<h1>variables:</h1>\n",
    "skeleton --> SKEL_1 del tetto (travi del tetto)<br>\n",
    "skeleton2 --> UKPOL dello SKEL_2 del tetto<br>\n",
    "vertici--> vertici di skeleton2<br>\n",
    "celle--> celle di skeleton2<br>\n",
    "union--> un unico array nel quale si sostituiscono gli indici dei vertici con i loro valori reali<br>\n",
    "vertex --> variabile di supporto per creare la lista di vertici aggiornata<br>\n",
    "cells --> lista delle celle aggiornata<br>\n",
    "vertex2 --> lista dei vertici aggiornata<br>\n",
    "cover--> copertura del tetto<br>\n",
    "struttura --> l'output della funzione ggpl_roof_builder(hpc)<br>"
   ]
  },
  {
   "cell_type": "markdown",
   "metadata": {},
   "source": [
    "<h1>Geometric method:</h1>\n",
    "La funzione prende in input dei valori hpc, rappresentativi di un modello grossolano di tetto. L'input è usato immediatamente per realizzare la struttura interna del tetto, tramite la funzione SKEL_1, ed applicandogli poi un offset di 0.2x0.2x0.2.\n",
    "Come seconda operazione si esegue la funzione SKEL_2 sull'input e da questa vengono presi i valori dei vertici e delle celle convesse, tramite la funzione UKPOL.\n",
    "Il risultato ottenuto è una grande quantità di valori, spesso ripetuti, all'interno della lista dei vertici. \n",
    "Di conseguenza, per risolvere il problema, ho operato in questo modo:\n",
    "ho creato una pseudo-lista, uguale a quella delle celle, a differenza della quale, gli indici dei vertici sono sostituiti con i valori reali che essi assumono (x,y e z). Questa lista è rappresentata dalla variabile \"union\".\n",
    "Dopodiché ho scandito la lista e ho preso una sola volta i valori contenuti in essa (eliminando i doppioni), creando una nuova lista chiamata \"vertex\".Poi ho riadattato e corretto i valori degli indici che identificavano i veritici all'interno della lista \"cells\".\n",
    "In fine ho eliminato i vertici inutili dalla lista vertex (cioè quelli che corrispondevano alle proiezioni sul piano x-y dei vertici che avevano una z diversa da 0). Ho creato dunque una nuova lista vertex2.\n",
    "In conclusione ho creato la copertura del tetto sfruttando le liste vertex2 e cells in questo modo: cover=MKPOL([vertex2,cells,None])\n",
    "ed ho unito cover con la struttura interna del tetto generando così l'output della funzione."
   ]
  },
  {
   "cell_type": "code",
   "execution_count": 32,
   "metadata": {
    "collapsed": false
   },
   "outputs": [],
   "source": [
    "def ggpl_roof_builder(hpc):\n",
    "    \"\"\"this function take as input some HTC values, rapresentative of a rough model of a roof.\n",
    "    Its returns some HTC values, representative of a detailed model of a roof, with internal \n",
    "    structure (beams) and top cover\"\"\"\n",
    "    skeleton = SKEL_1(hpc)\n",
    "    skeleton = OFFSET([0.2,0.2,0.2])(skeleton)\n",
    "    \n",
    "  \n",
    "    skeleton2 =UKPOL(SKEL_2(hpc))\n",
    "\n",
    "    \n",
    "    vertici=skeleton2[0]\n",
    "    celle=skeleton2[1]\n",
    "    union=[]\n",
    "    vertex=[]\n",
    "    cells=[]\n",
    "    vertex2=[]\n",
    "    \n",
    "    for c in celle:\n",
    "        u=[]\n",
    "        for v in c:\n",
    "            u.append(vertici[v-1])\n",
    "        union.append(u)\n",
    "    \n",
    "    for u in union:\n",
    "        for v in u:\n",
    "            if v not in vertex:\n",
    "                vertex.append(v)\n",
    "            else:\n",
    "                v=vertex.index(v)\n",
    "    \n",
    "    for u in union:\n",
    "        a=[]\n",
    "        for v in u:\n",
    "            a.append(vertex.index(v)+1)\n",
    "        cells.append(a)\n",
    "\n",
    "    appeso=0\n",
    "    for v in vertex:\n",
    "        if v[2]>0:\n",
    "            vertex2.append(v)\n",
    "        else:\n",
    "            for v2 in vertex:\n",
    "                if v2[2]>0:\n",
    "                    if v2[0]==v[0] and v2[1]==v[1]:\n",
    "                        vertex2.append(v2)\n",
    "                        appeso=1\n",
    "            if not(appeso):\n",
    "                vertex2.append(v)\n",
    "            appeso=0\n",
    "    cover=MKPOL([vertex2,cells,None])\n",
    "    cover=STRUCT([T(3)(0.2),cover])\n",
    "    cover=OFFSET([0.2,0.2,0.2])(cover)\n",
    "    struttura= STRUCT([cover,skeleton])            \n",
    "\n",
    "    return struttura\n",
    "\n",
    "  \n",
    "    \n",
    "    \n",
    "    \n",
    "             \n",
    "   \n",
    "    "
   ]
  },
  {
   "cell_type": "code",
   "execution_count": 34,
   "metadata": {
    "collapsed": false
   },
   "outputs": [],
   "source": [
    "VIEW(ggpl_roof_builder(tetto1))\n"
   ]
  },
  {
   "cell_type": "markdown",
   "metadata": {},
   "source": [
    "<h1>Results</h1>\n",
    "<h2>Tetto 1:</h2>\n",
    "![alt text](tetto1_1.PNG)\n",
    "![alt text](tetto1_2.PNG)\n",
    "<h2>Tetto 2:</h2>\n",
    "![alt text](tetto2_1.PNG)\n",
    "![alt text](tetto2_2.PNG)"
   ]
  }
],
 "metadata": {
  "kernelspec": {
   "display_name": "Python 2",
   "language": "python",
   "name": "python2"
  },
  "language_info": {
   "codemirror_mode": {
    "name": "ipython",
    "version": 2
   },
   "file_extension": ".py",
   "mimetype": "text/x-python",
   "name": "python",
   "nbconvert_exporter": "python",
   "pygments_lexer": "ipython2",
   "version": "2.7.12"
  }
 },
 "nbformat": 4,
 "nbformat_minor": 1
}
