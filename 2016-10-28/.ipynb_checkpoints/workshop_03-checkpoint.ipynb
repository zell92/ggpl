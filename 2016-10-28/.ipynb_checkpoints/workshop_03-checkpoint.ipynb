{
 "cells": [
  {
   "cell_type": "markdown",
   "metadata": {},
   "source": [
    "# Stair landings"
   ]
  },
  {
   "cell_type": "markdown",
   "metadata": {},
   "source": [
    "Workshop N.3- Nicola Sardella - 440648"
   ]
  },
  {
   "cell_type": "markdown",
   "metadata": {},
   "source": [
    "<H1>[Struttura di riferimento](http://www.builderbill-diy-help.com/image-files/xst-half2.gif.pagespeed.ic.rX-ZF-GupS.png)</H1>\n",
    "![alt text](scale.png)"
   ]
  },
  {
   "cell_type": "markdown",
   "metadata": {},
   "source": [
    "<H2>geometric method:</H2>\n",
    "La funzione prende in input tre parametri dx, dy, dz (in metri). Questi parametri corrispondono alle dimensioni totali della struttura.\n",
    "La profondità della pedata di un gradino (variabile p) sarà in funzione del parametro dy, mentre l'altezza dell'alzata in funzione del parametro dz.\n",
    "La larghezza dell'alzata e della pedata sono in funzione del parametro dx, in particolare dx/2.\n",
    "La singola rampa avrà altezza complessiva (dx-altezza pianerottolo)/2.\n",
    "Si sfrutta la proporzione tra alzata e pedata: 2a+p=(62-64)cm\n",
    "In fine il pianerottolo sarà proporzionale alla dimensione dy, in particolare sarà 1/4 di dy.\n",
    "    "
   ]
  },
  {
   "cell_type": "code",
   "execution_count": 1,
   "metadata": {
    "collapsed": false
   },
   "outputs": [
    {
     "name": "stdout",
     "output_type": "stream",
     "text": [
      "Evaluating fenvs.py..\n",
      "...fenvs.py imported in 0.00538245770392 seconds\n"
     ]
    },
    {
     "name": "stderr",
     "output_type": "stream",
     "text": [
      "c:\\python27(64)\\lib\\site-packages\\larlib\\larstruct.py:233: FutureWarning: comparison to `None` will result in an elementwise object comparison in the future.\n",
      "  self.body = [item for item in data if item != None]\n"
     ]
    }
   ],
   "source": [
    "from pyplasm import *\n",
    "from larlib import *"
   ]
  },
  {
   "cell_type": "code",
   "execution_count": 2,
   "metadata": {
    "collapsed": false
   },
   "outputs": [],
   "source": [
    "\"\"\"this function returns a 3-values array: rizer of a step, \n",
    "tread of a step and number of total steps.\n",
    "Input: \n",
    "dy,dz (the dimensions y and z of whole structure)\"\"\"\n",
    "def rizerAndTread(dy,dz):\n",
    "    #profondità pianerottolo 1m\n",
    "    \n",
    "    p=0.63/((2*dz/dy)+1)\n",
    "    a=(0.63-p)/2\n",
    "    frazioneA= dz/a\n",
    "    nGradini = round((frazioneA-1))    \n",
    "    result=[p,a,nGradini]\n",
    "    return result"
   ]
  },
  {
   "cell_type": "code",
   "execution_count": 3,
   "metadata": {
    "collapsed": false
   },
   "outputs": [],
   "source": [
    "\"\"\"this function returns some HTC values, representative of a Stair landings. \n",
    "Input: \n",
    "dx,dy,dx (the dimensions of whole structure)\"\"\"\n",
    "def ggpl_stair_landings(dx,dy,dz):\n",
    "    dati=rizerAndTread(dy,dz)\n",
    "    nGradini = dati[2]\n",
    "    alzata=dati[1]\n",
    "    pedata=dati[0]\n",
    "    yPianerottolo = dy/3.0\n",
    "    lGradino = dx/2\n",
    "    pianerottolo=CUBOID([dx,yPianerottolo,alzata])\n",
    "    halfSteps=0\n",
    "    dispari=0\n",
    "    if nGradini%2==0:\n",
    "        halfSteps=nGradini/2\n",
    "    else:\n",
    "        halfSteps=(nGradini-1)/2\n",
    "        dispari=1\n",
    "    scala=[]\n",
    "    diagonale=[]\n",
    "    dist=[-(dx/2),dx/2]\n",
    "    dist2=[dx/2]\n",
    "    distDiag=QUOTE(dist)\n",
    "    scala.append(T([1])(lGradino))\n",
    "    a=0\n",
    "    p=pedata\n",
    "    diagonale.append([a,p])\n",
    "    diagonale.append([alzata,p])\n",
    "    diagonale.append([alzata,2*p])\n",
    "    d=MKPOL([diagonale,[[1,2,3]],None])\n",
    "    d=PROD([distDiag,d])\n",
    "    d=STRUCT([R([2,3])(PI/2),d])\n",
    "    d=STRUCT([R([1,2])(PI),d])\n",
    "    d=STRUCT([T([1])(dx*3/2),d])\n",
    "    for i in range (1,int(halfSteps)):\n",
    "        p=p+pedata\n",
    "        a=a+alzata\n",
    "        scala.append(CUBOID([lGradino,pedata,alzata]))\n",
    "        scala.append(T([1,2,3])([0,pedata,alzata]))\n",
    "        d=STRUCT([d,T([2,3])([pedata,alzata]),d])\n",
    "        \n",
    "    scala.append(CUBOID([lGradino,pedata,alzata]))\n",
    "    scala.append(T([1,2,3])([-lGradino,pedata,alzata]))\n",
    "    scala.append(pianerottolo)\n",
    "    \n",
    "    scala1=STRUCT([STRUCT(scala),d])\n",
    "    \n",
    "    if dispari:\n",
    "        halfSteps2=halfSteps+1\n",
    "\n",
    "    scalaMirror=[]\n",
    "    diagonaleMirror=[]\n",
    "    dist=[-(dx/2),dx/2]\n",
    "    dist2=[dx/2]\n",
    "    distDiag=QUOTE(dist)\n",
    "    scalaMirror.append(T([1])(lGradino))\n",
    "    a=0\n",
    "    p=pedata\n",
    "    diagonaleMirror.append([a,p])\n",
    "    diagonaleMirror.append([alzata,p])\n",
    "    diagonaleMirror.append([alzata,2*p])\n",
    "    d2=MKPOL([diagonale,[[1,2,3]],None])\n",
    "    d2=PROD([distDiag,d2])\n",
    "    d2=STRUCT([R([2,3])(PI/2),d2])\n",
    "    d2=STRUCT([R([1,2])(PI),d2])\n",
    "    d2=STRUCT([T([1,2,3])([dx*3/2,-pedata,-alzata]),d2])\n",
    "   \n",
    "    for i in range (1,int(halfSteps)):\n",
    "        d2=STRUCT([d2,T([2,3])([pedata,alzata]),d2])\n",
    "        p=p+pedata\n",
    "        a=a+alzata\n",
    "        scalaMirror.append(CUBOID([lGradino,pedata,alzata]))\n",
    "        scalaMirror.append(T([1,2,3])([0,pedata,alzata]))\n",
    "\n",
    "    p=p+pedata\n",
    "    a=a+alzata\n",
    "    \n",
    "    scalaMirror.append(CUBOID([lGradino,pedata,alzata]))\n",
    "    \n",
    "    \n",
    "    scala2=STRUCT([STRUCT(scalaMirror),d2])\n",
    "    scala2=STRUCT([R([1,2])(PI),scala2])\n",
    "    scala2=STRUCT([T([1,2,3])([lGradino*2,pedata*(halfSteps),alzata*(halfSteps+1)]),scala2])\n",
    "    \n",
    "    scala2=STRUCT([scala1,scala2])\n",
    "    a=SIZE([1,2,3])(BOX([1,2,3])(scala2))\n",
    "                \n",
    "    sx=dx/a[0]                \n",
    "    sy=dy/a[1]\n",
    "    sz=dz/a[2]\n",
    "\n",
    "    scala2=STRUCT([S([1,2,3])([sx,sy,sz]),scala2])\n",
    "    return scala2\n",
    "   \n",
    "    "
   ]
  },
  {
   "cell_type": "code",
   "execution_count": 5,
   "metadata": {
    "collapsed": false
   },
   "outputs": [
    {
     "name": "stdout",
     "output_type": "stream",
     "text": [
      "[3.1999995708465576, 3.999999523162842, 3.5999984741210938]\n"
     ]
    }
   ],
   "source": [
    "r=ggpl_stair_landings(3.2,3.4,3.6)\n",
    "VIEW(r)\n",
    "print(SIZE([1,2,3])(BOX([1,2,3])(r)))\n",
    "\n"
   ]
  },
  {
   "cell_type": "markdown",
   "metadata": {
    "collapsed": true
   },
   "source": [
    "<h2>Risultato Ottenuto:</h2>"
   ]
  },
  {
   "cell_type": "markdown",
   "metadata": {
    "collapsed": true
   },
   "source": [
    "![alt text](risultato.png)"
   ]
  }
 ],
 "metadata": {
  "kernelspec": {
   "display_name": "Python 2",
   "language": "python",
   "name": "python2"
  },
  "language_info": {
   "codemirror_mode": {
    "name": "ipython",
    "version": 2
   },
   "file_extension": ".py",
   "mimetype": "text/x-python",
   "name": "python",
   "nbconvert_exporter": "python",
   "pygments_lexer": "ipython2",
   "version": "2.7.12"
  }
 },
 "nbformat": 4,
 "nbformat_minor": 1
}
